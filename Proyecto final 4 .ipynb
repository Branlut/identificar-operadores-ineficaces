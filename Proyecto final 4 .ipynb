{
 "cells": [
  {
   "cell_type": "markdown",
   "metadata": {},
   "source": [
    "Hola **Brayan**!\n",
    "\n",
    "Soy **Patricio Requena** 👋. Es un placer ser el revisor de tu proyecto el día de hoy!\n",
    "\n",
    "Revisaré tu proyecto detenidamente con el objetivo de ayudarte a mejorar y perfeccionar tus habilidades. Durante mi revisión, identificaré áreas donde puedas hacer mejoras en tu código, señalando específicamente qué y cómo podrías ajustar para optimizar el rendimiento y la claridad de tu proyecto. Además, es importante para mí destacar los aspectos que has manejado excepcionalmente bien. Reconocer tus fortalezas te ayudará a entender qué técnicas y métodos están funcionando a tu favor y cómo puedes aplicarlos en futuras tareas. \n",
    "\n",
    "_**Recuerda que al final de este notebook encontrarás un comentario general de mi parte**_, empecemos!\n",
    "\n",
    "Encontrarás mis comentarios dentro de cajas verdes, amarillas o rojas, ⚠️ **por favor, no muevas, modifiques o borres mis comentarios** ⚠️:\n",
    "\n",
    "\n",
    "<div class=\"alert alert-block alert-success\">\n",
    "<b>Comentario del revisor</b> <a class=“tocSkip”></a>\n",
    "Si todo está perfecto.\n",
    "</div>\n",
    "\n",
    "<div class=\"alert alert-block alert-warning\">\n",
    "<b>Comentario del revisor</b> <a class=“tocSkip”></a>\n",
    "Si tu código está bien pero se puede mejorar o hay algún detalle que le hace falta.\n",
    "</div>\n",
    "\n",
    "<div class=\"alert alert-block alert-danger\">\n",
    "<b>Comentario del revisor</b> <a class=“tocSkip”></a>\n",
    "Si de pronto hace falta algo o existe algún problema con tu código o conclusiones.\n",
    "</div>\n",
    "\n",
    "Puedes responderme de esta forma:\n",
    "<div class=\"alert alert-block alert-info\">\n",
    "<b>Respuesta del estudiante</b> <a class=“tocSkip”></a>\n",
    "</div>"
   ]
  },
  {
   "cell_type": "markdown",
   "metadata": {},
   "source": [
    "La empresa CallMeMaybe la cual provee un servicio de telefonia virtual busca desarrollar una función que brinde información sobre los operadores ineficaces los cuales tienen las siguientes características\n",
    "- Gran cantidad de llamadas entrantes perdidas (internas y externas)\n",
    "- tiempo de espera prolongado para las llamadas entrantes\n",
    "- Numero reducido de llamadas salientes\n",
    "\n",
    "Nuestro objetivo es encontrar estos operadores para que la generencia pueda realizar los cambios pertinentes para mejorar el servicio"
   ]
  },
  {
   "cell_type": "markdown",
   "metadata": {},
   "source": [
    "Acceso a Dashboard: https://public.tableau.com/views/ProyectofinalTelecomunicaciones/Dashboard1?:language=es-ES&publish=yes&:sid=&:redirect=auth&:display_count=n&:origin=viz_share_link"
   ]
  },
  {
   "cell_type": "markdown",
   "metadata": {},
   "source": [
    "Acceso a informe:https://drive.google.com/file/d/12BRzmhNHeB27ZPTrpKFGMbHxC3vFGIBj/view?usp=sharing"
   ]
  },
  {
   "cell_type": "markdown",
   "metadata": {},
   "source": [
    "<div class=\"alert alert-block alert-danger\">\n",
    "<b>Comentario del revisor (1ra Iteracion)</b> <a class=“tocSkip”></a>\n",
    "\n",
    "Muy buen trabajo con la presentación y el dashboard creado, esto deja ver claramente la combinación de habilidades que adquiriste a lo largo de tu formación cómo Data Analyst! Sin embargo, hay algunas gráficas en la presentación que no son tan claras, te dejaré los comentarios para sus cambios en el ejercicio donde las generas\n",
    "</div>"
   ]
  },
  {
   "cell_type": "markdown",
   "metadata": {},
   "source": [
    "## Carga de datos"
   ]
  },
  {
   "cell_type": "code",
   "execution_count": 1,
   "metadata": {},
   "outputs": [],
   "source": [
    "import datetime as dt\n",
    "import math as mth\n",
    "\n",
    "import pandas as pd\n",
    "import numpy as np\n",
    "from scipy import stats as st\n",
    "\n",
    "import seaborn as sns\n",
    "import matplotlib.pyplot as plt"
   ]
  },
  {
   "cell_type": "code",
   "execution_count": 2,
   "metadata": {},
   "outputs": [],
   "source": [
    "df_telecom = pd.read_csv('/datasets/telecom_dataset_us.csv')\n",
    "df_telecom_clients = pd.read_csv('/datasets/telecom_clients_us.csv')"
   ]
  },
  {
   "cell_type": "markdown",
   "metadata": {},
   "source": [
    "## Preprocesamiento"
   ]
  },
  {
   "cell_type": "markdown",
   "metadata": {},
   "source": [
    "### Telecom"
   ]
  },
  {
   "cell_type": "code",
   "execution_count": 3,
   "metadata": {},
   "outputs": [
    {
     "name": "stdout",
     "output_type": "stream",
     "text": [
      "<class 'pandas.core.frame.DataFrame'>\n",
      "RangeIndex: 53902 entries, 0 to 53901\n",
      "Data columns (total 9 columns):\n",
      " #   Column               Non-Null Count  Dtype  \n",
      "---  ------               --------------  -----  \n",
      " 0   user_id              53902 non-null  int64  \n",
      " 1   date                 53902 non-null  object \n",
      " 2   direction            53902 non-null  object \n",
      " 3   internal             53785 non-null  object \n",
      " 4   operator_id          45730 non-null  float64\n",
      " 5   is_missed_call       53902 non-null  bool   \n",
      " 6   calls_count          53902 non-null  int64  \n",
      " 7   call_duration        53902 non-null  int64  \n",
      " 8   total_call_duration  53902 non-null  int64  \n",
      "dtypes: bool(1), float64(1), int64(4), object(3)\n",
      "memory usage: 3.3+ MB\n"
     ]
    }
   ],
   "source": [
    "df_telecom.info()"
   ]
  },
  {
   "cell_type": "code",
   "execution_count": 4,
   "metadata": {},
   "outputs": [
    {
     "name": "stdout",
     "output_type": "stream",
     "text": [
      "   user_id                       date direction internal  operator_id  \\\n",
      "0   166377  2019-08-04 00:00:00+03:00        in    False          NaN   \n",
      "1   166377  2019-08-05 00:00:00+03:00       out     True     880022.0   \n",
      "2   166377  2019-08-05 00:00:00+03:00       out     True     880020.0   \n",
      "3   166377  2019-08-05 00:00:00+03:00       out     True     880020.0   \n",
      "4   166377  2019-08-05 00:00:00+03:00       out    False     880022.0   \n",
      "\n",
      "   is_missed_call  calls_count  call_duration  total_call_duration  \n",
      "0            True            2              0                    4  \n",
      "1            True            3              0                    5  \n",
      "2            True            1              0                    1  \n",
      "3           False            1             10                   18  \n",
      "4            True            3              0                   25  \n"
     ]
    }
   ],
   "source": [
    "print(df_telecom.head())"
   ]
  },
  {
   "cell_type": "code",
   "execution_count": 5,
   "metadata": {},
   "outputs": [
    {
     "name": "stdout",
     "output_type": "stream",
     "text": [
      "user_id                   0\n",
      "date                      0\n",
      "direction                 0\n",
      "internal                117\n",
      "operator_id            8172\n",
      "is_missed_call            0\n",
      "calls_count               0\n",
      "call_duration             0\n",
      "total_call_duration       0\n",
      "dtype: int64\n"
     ]
    }
   ],
   "source": [
    "print(df_telecom.isna().sum())"
   ]
  },
  {
   "cell_type": "code",
   "execution_count": 6,
   "metadata": {},
   "outputs": [
    {
     "name": "stdout",
     "output_type": "stream",
     "text": [
      "41913190960.0\n"
     ]
    }
   ],
   "source": [
    "print(df_telecom['operator_id'].sum())"
   ]
  },
  {
   "cell_type": "code",
   "execution_count": 7,
   "metadata": {},
   "outputs": [
    {
     "name": "stdout",
     "output_type": "stream",
     "text": [
      "8172\n"
     ]
    }
   ],
   "source": [
    "print(df_telecom['operator_id'].isna().sum())"
   ]
  },
  {
   "cell_type": "code",
   "execution_count": 8,
   "metadata": {},
   "outputs": [
    {
     "name": "stdout",
     "output_type": "stream",
     "text": [
      "       user_id                       date direction internal  operator_id  \\\n",
      "0       166377  2019-08-04 00:00:00+03:00        in    False          NaN   \n",
      "7       166377  2019-08-05 00:00:00+03:00        in    False          NaN   \n",
      "9       166377  2019-08-06 00:00:00+03:00        in    False          NaN   \n",
      "17      166377  2019-08-07 00:00:00+03:00        in    False          NaN   \n",
      "27      166377  2019-08-12 00:00:00+03:00        in    False          NaN   \n",
      "...        ...                        ...       ...      ...          ...   \n",
      "53876   168601  2019-11-27 00:00:00+03:00        in    False          NaN   \n",
      "53880   168601  2019-11-28 00:00:00+03:00        in    False          NaN   \n",
      "53889   168603  2019-11-28 00:00:00+03:00        in    False          NaN   \n",
      "53893   168606  2019-11-08 00:00:00+03:00        in    False          NaN   \n",
      "53901   168606  2019-11-19 00:00:00+03:00        in    False          NaN   \n",
      "\n",
      "       is_missed_call  calls_count  call_duration  total_call_duration  \n",
      "0                True            2              0                    4  \n",
      "7                True            6              0                   35  \n",
      "9                True            4              0                   62  \n",
      "17               True            2              0                   24  \n",
      "27               True            2              0                   34  \n",
      "...               ...          ...            ...                  ...  \n",
      "53876            True            2              0                   39  \n",
      "53880            True            1              0                   19  \n",
      "53889            True            1              0                   30  \n",
      "53893            True            6              0                  121  \n",
      "53901            True            2              0                   64  \n",
      "\n",
      "[8172 rows x 9 columns]\n"
     ]
    }
   ],
   "source": [
    "print(df_telecom[df_telecom['operator_id'].isna()])"
   ]
  },
  {
   "cell_type": "markdown",
   "metadata": {},
   "source": [
    "<div class=\"alert alert-block alert-success\">\n",
    "<b>Comentario del revisor (1ra Iteracion)</b> <a class=“tocSkip”></a>\n",
    "\n",
    "Buen trabajo con la carga de datos y la exploración inicial!\n",
    "</div>"
   ]
  },
  {
   "cell_type": "code",
   "execution_count": 9,
   "metadata": {},
   "outputs": [
    {
     "name": "stdout",
     "output_type": "stream",
     "text": [
      "<class 'pandas.core.frame.DataFrame'>\n",
      "RangeIndex: 53902 entries, 0 to 53901\n",
      "Data columns (total 9 columns):\n",
      " #   Column               Non-Null Count  Dtype                                \n",
      "---  ------               --------------  -----                                \n",
      " 0   user_id              53902 non-null  int64                                \n",
      " 1   date                 53902 non-null  datetime64[ns, pytz.FixedOffset(180)]\n",
      " 2   direction            53902 non-null  object                               \n",
      " 3   internal             53902 non-null  object                               \n",
      " 4   operator_id          53902 non-null  int64                                \n",
      " 5   is_missed_call       53902 non-null  bool                                 \n",
      " 6   calls_count          53902 non-null  int64                                \n",
      " 7   call_duration        53902 non-null  int64                                \n",
      " 8   total_call_duration  53902 non-null  int64                                \n",
      "dtypes: bool(1), datetime64[ns, pytz.FixedOffset(180)](1), int64(5), object(2)\n",
      "memory usage: 3.3+ MB\n"
     ]
    }
   ],
   "source": [
    "df_telecom['date'] = pd.to_datetime(df_telecom['date'])\n",
    "df_telecom['date'] = df_telecom['date'].dt.normalize()\n",
    "df_telecom.fillna(0,inplace=True)\n",
    "df_telecom['operator_id'] = df_telecom['operator_id'].astype(int)\n",
    "df_telecom.info()"
   ]
  },
  {
   "cell_type": "code",
   "execution_count": 10,
   "metadata": {},
   "outputs": [
    {
     "name": "stdout",
     "output_type": "stream",
     "text": [
      "4900\n"
     ]
    }
   ],
   "source": [
    "print(df_telecom.duplicated().sum())"
   ]
  },
  {
   "cell_type": "code",
   "execution_count": 11,
   "metadata": {},
   "outputs": [
    {
     "name": "stdout",
     "output_type": "stream",
     "text": [
      "       user_id                      date direction internal  operator_id  \\\n",
      "8       166377 2019-08-05 00:00:00+03:00       out    False       880020   \n",
      "28      166377 2019-08-12 00:00:00+03:00        in    False            0   \n",
      "44      166377 2019-08-14 00:00:00+03:00       out    False       880026   \n",
      "45      166377 2019-08-14 00:00:00+03:00        in    False            0   \n",
      "51      166377 2019-08-15 00:00:00+03:00       out    False       880026   \n",
      "...        ...                       ...       ...      ...          ...   \n",
      "53869   168601 2019-11-25 00:00:00+03:00        in    False       952914   \n",
      "53874   168601 2019-11-26 00:00:00+03:00        in    False       952914   \n",
      "53875   168601 2019-11-26 00:00:00+03:00        in    False            0   \n",
      "53885   168603 2019-11-20 00:00:00+03:00       out    False       959118   \n",
      "53900   168606 2019-11-15 00:00:00+03:00       out     True       957922   \n",
      "\n",
      "       is_missed_call  calls_count  call_duration  total_call_duration  \n",
      "8                True            8              0                   50  \n",
      "28               True            2              0                   34  \n",
      "44              False           10           1567                 1654  \n",
      "45               True            1              0                    3  \n",
      "51              False           11           1413                 1473  \n",
      "...               ...          ...            ...                  ...  \n",
      "53869           False            7           1229                 1282  \n",
      "53874           False            4            539                  562  \n",
      "53875            True            3              0                   35  \n",
      "53885            True            3              0                   89  \n",
      "53900           False            4           3130                 3190  \n",
      "\n",
      "[4900 rows x 9 columns]\n"
     ]
    }
   ],
   "source": [
    "print(df_telecom[df_telecom.duplicated()])"
   ]
  },
  {
   "cell_type": "code",
   "execution_count": 12,
   "metadata": {},
   "outputs": [],
   "source": [
    "df_telecom.drop_duplicates(inplace=True)\n",
    "df_telecom = df_telecom[~(df_telecom['operator_id']==0)]\n",
    "df_telecom.reset_index(drop=True, inplace=True)"
   ]
  },
  {
   "cell_type": "code",
   "execution_count": 13,
   "metadata": {},
   "outputs": [
    {
     "name": "stdout",
     "output_type": "stream",
     "text": [
      "       user_id                      date direction internal  operator_id  \\\n",
      "0       166377 2019-08-05 00:00:00+03:00       out     True       880022   \n",
      "1       166377 2019-08-05 00:00:00+03:00       out     True       880020   \n",
      "2       166377 2019-08-05 00:00:00+03:00       out     True       880020   \n",
      "3       166377 2019-08-05 00:00:00+03:00       out    False       880022   \n",
      "4       166377 2019-08-05 00:00:00+03:00       out    False       880020   \n",
      "...        ...                       ...       ...      ...          ...   \n",
      "41541   168606 2019-11-09 00:00:00+03:00       out    False       957922   \n",
      "41542   168606 2019-11-10 00:00:00+03:00       out     True       957922   \n",
      "41543   168606 2019-11-10 00:00:00+03:00       out     True       957922   \n",
      "41544   168606 2019-11-11 00:00:00+03:00       out     True       957922   \n",
      "41545   168606 2019-11-15 00:00:00+03:00       out     True       957922   \n",
      "\n",
      "       is_missed_call  calls_count  call_duration  total_call_duration  \n",
      "0                True            3              0                    5  \n",
      "1                True            1              0                    1  \n",
      "2               False            1             10                   18  \n",
      "3                True            3              0                   25  \n",
      "4               False            2              3                   29  \n",
      "...               ...          ...            ...                  ...  \n",
      "41541           False            4            551                  593  \n",
      "41542           False            1              0                   25  \n",
      "41543            True            1              0                   38  \n",
      "41544           False            2            479                  501  \n",
      "41545           False            4           3130                 3190  \n",
      "\n",
      "[41546 rows x 9 columns]\n"
     ]
    }
   ],
   "source": [
    "print(df_telecom)"
   ]
  },
  {
   "cell_type": "code",
   "execution_count": 14,
   "metadata": {},
   "outputs": [
    {
     "name": "stdout",
     "output_type": "stream",
     "text": [
      "0\n"
     ]
    }
   ],
   "source": [
    "print(df_telecom.duplicated().sum())"
   ]
  },
  {
   "cell_type": "markdown",
   "metadata": {},
   "source": [
    "-El dataframe df_telecom cuenta con 9 columnas todas non-null y cuenta con 53902\n",
    "\n",
    "-Se encontraron datos faltantes en la columna internal y operator_id, se decidio no cambiar internal ya que es un balor boolean(true,false) y que son muy pocos valores para impactar el analisis y operator_id ya que no se puede asignar un id de operador random se dejo en 0 los faltantes y se transformo a tipo int ya que este estaba como float pero no contaba con ningun digito despues del punto decimal\n",
    "\n",
    "-Se decidio dejar de lado los registros que no contaban con un operador registrados ya que el objetivo es verificar la eficiencia de estos y al no estar el identificador de esto no se podria.\n",
    "\n",
    "-El campo date se cambio a tipo date para un mejor analisis si posteriormente se necesita ya que este estaba como tipo object\n",
    "\n",
    "-Se encontraron con 4900 duplicados que se procedieron a eliminar\n",
    "\n"
   ]
  },
  {
   "cell_type": "markdown",
   "metadata": {},
   "source": [
    "###  Telecom Clients"
   ]
  },
  {
   "cell_type": "code",
   "execution_count": 15,
   "metadata": {},
   "outputs": [
    {
     "name": "stdout",
     "output_type": "stream",
     "text": [
      "<class 'pandas.core.frame.DataFrame'>\n",
      "RangeIndex: 732 entries, 0 to 731\n",
      "Data columns (total 3 columns):\n",
      " #   Column       Non-Null Count  Dtype \n",
      "---  ------       --------------  ----- \n",
      " 0   user_id      732 non-null    int64 \n",
      " 1   tariff_plan  732 non-null    object\n",
      " 2   date_start   732 non-null    object\n",
      "dtypes: int64(1), object(2)\n",
      "memory usage: 17.3+ KB\n"
     ]
    }
   ],
   "source": [
    "df_telecom_clients.info()"
   ]
  },
  {
   "cell_type": "code",
   "execution_count": 16,
   "metadata": {},
   "outputs": [
    {
     "name": "stdout",
     "output_type": "stream",
     "text": [
      "   user_id tariff_plan  date_start\n",
      "0   166713           A  2019-08-15\n",
      "1   166901           A  2019-08-23\n",
      "2   168527           A  2019-10-29\n",
      "3   167097           A  2019-09-01\n",
      "4   168193           A  2019-10-16\n"
     ]
    }
   ],
   "source": [
    "print(df_telecom_clients.head(5))"
   ]
  },
  {
   "cell_type": "code",
   "execution_count": 17,
   "metadata": {},
   "outputs": [
    {
     "name": "stdout",
     "output_type": "stream",
     "text": [
      "<class 'pandas.core.frame.DataFrame'>\n",
      "RangeIndex: 732 entries, 0 to 731\n",
      "Data columns (total 3 columns):\n",
      " #   Column       Non-Null Count  Dtype         \n",
      "---  ------       --------------  -----         \n",
      " 0   user_id      732 non-null    int64         \n",
      " 1   tariff_plan  732 non-null    object        \n",
      " 2   date_start   732 non-null    datetime64[ns]\n",
      "dtypes: datetime64[ns](1), int64(1), object(1)\n",
      "memory usage: 17.3+ KB\n"
     ]
    }
   ],
   "source": [
    "df_telecom_clients['date_start'] =pd.to_datetime(df_telecom_clients['date_start'] )\n",
    "df_telecom_clients.info()"
   ]
  },
  {
   "cell_type": "code",
   "execution_count": 18,
   "metadata": {},
   "outputs": [
    {
     "name": "stdout",
     "output_type": "stream",
     "text": [
      "user_id        0\n",
      "tariff_plan    0\n",
      "date_start     0\n",
      "dtype: int64\n"
     ]
    }
   ],
   "source": [
    "print(df_telecom_clients.isna().sum())"
   ]
  },
  {
   "cell_type": "code",
   "execution_count": 19,
   "metadata": {},
   "outputs": [
    {
     "name": "stdout",
     "output_type": "stream",
     "text": [
      "0\n"
     ]
    }
   ],
   "source": [
    "print(df_telecom_clients.duplicated().sum())"
   ]
  },
  {
   "cell_type": "markdown",
   "metadata": {},
   "source": [
    "-La df_telecom_clients cuenta con 3 columnas todas non-null y con 732 regitros\n",
    "\n",
    "-No se encontraron datos duplicados\n",
    "\n",
    "-No se encontraron datos faltantes\n",
    "\n",
    "-Se cambio el tipo de dato de date_start ya que estaba como object ahora tipo date para facilitar el analisis posterior si es necesario"
   ]
  },
  {
   "cell_type": "markdown",
   "metadata": {},
   "source": [
    "<div class=\"alert alert-block alert-success\">\n",
    "<b>Comentario del revisor (1ra Iteracion)</b> <a class=“tocSkip”></a>\n",
    "\n",
    "Muy bien revisados los datos previo al análisis!\n",
    "</div>"
   ]
  },
  {
   "cell_type": "markdown",
   "metadata": {},
   "source": [
    "## Analisis exploratorio"
   ]
  },
  {
   "cell_type": "code",
   "execution_count": 20,
   "metadata": {},
   "outputs": [
    {
     "name": "stdout",
     "output_type": "stream",
     "text": [
      "       user_id                      date direction internal  operator_id  \\\n",
      "0       166377 2019-08-05 00:00:00+03:00       out     True       880022   \n",
      "1       166377 2019-08-05 00:00:00+03:00       out     True       880020   \n",
      "2       166377 2019-08-05 00:00:00+03:00       out     True       880020   \n",
      "3       166377 2019-08-05 00:00:00+03:00       out    False       880022   \n",
      "4       166377 2019-08-05 00:00:00+03:00       out    False       880020   \n",
      "...        ...                       ...       ...      ...          ...   \n",
      "41541   168606 2019-11-09 00:00:00+03:00       out    False       957922   \n",
      "41542   168606 2019-11-10 00:00:00+03:00       out     True       957922   \n",
      "41543   168606 2019-11-10 00:00:00+03:00       out     True       957922   \n",
      "41544   168606 2019-11-11 00:00:00+03:00       out     True       957922   \n",
      "41545   168606 2019-11-15 00:00:00+03:00       out     True       957922   \n",
      "\n",
      "       is_missed_call  calls_count  call_duration  total_call_duration  \\\n",
      "0                True            3              0                    5   \n",
      "1                True            1              0                    1   \n",
      "2               False            1             10                   18   \n",
      "3                True            3              0                   25   \n",
      "4               False            2              3                   29   \n",
      "...               ...          ...            ...                  ...   \n",
      "41541           False            4            551                  593   \n",
      "41542           False            1              0                   25   \n",
      "41543            True            1              0                   38   \n",
      "41544           False            2            479                  501   \n",
      "41545           False            4           3130                 3190   \n",
      "\n",
      "       waiting_t  \n",
      "0              5  \n",
      "1              1  \n",
      "2              8  \n",
      "3             25  \n",
      "4             26  \n",
      "...          ...  \n",
      "41541         42  \n",
      "41542         25  \n",
      "41543         38  \n",
      "41544         22  \n",
      "41545         60  \n",
      "\n",
      "[41546 rows x 10 columns]\n"
     ]
    }
   ],
   "source": [
    "#Crear tiempo de espera\n",
    "df_telecom['waiting_t'] = df_telecom['total_call_duration'] - df_telecom['call_duration']\n",
    "\n",
    "print(df_telecom)"
   ]
  },
  {
   "cell_type": "markdown",
   "metadata": {},
   "source": [
    "### Correlacion de datos"
   ]
  },
  {
   "cell_type": "code",
   "execution_count": 21,
   "metadata": {},
   "outputs": [
    {
     "name": "stdout",
     "output_type": "stream",
     "text": [
      "                      user_id  operator_id  is_missed_call  calls_count  \\\n",
      "user_id              1.000000     0.857676        0.017593     0.024559   \n",
      "operator_id          0.857676     1.000000        0.008465     0.001606   \n",
      "is_missed_call       0.017593     0.008465        1.000000     0.028798   \n",
      "calls_count          0.024559     0.001606        0.028798     1.000000   \n",
      "call_duration       -0.009683    -0.030892       -0.177885     0.592286   \n",
      "total_call_duration -0.004940    -0.028882       -0.131034     0.715286   \n",
      "waiting_t            0.013367    -0.010790        0.081522     0.864604   \n",
      "\n",
      "                     call_duration  total_call_duration  waiting_t  \n",
      "user_id                  -0.009683            -0.004940   0.013367  \n",
      "operator_id              -0.030892            -0.028882  -0.010790  \n",
      "is_missed_call           -0.177885            -0.131034   0.081522  \n",
      "calls_count               0.592286             0.715286   0.864604  \n",
      "call_duration             1.000000             0.977883   0.524105  \n",
      "total_call_duration       0.977883             1.000000   0.690641  \n",
      "waiting_t                 0.524105             0.690641   1.000000  \n"
     ]
    }
   ],
   "source": [
    "print(df_telecom.corr())"
   ]
  },
  {
   "cell_type": "markdown",
   "metadata": {},
   "source": [
    "-Podemos notar en la matriz de correlacion los factores que tienen una fuerte correlacion como lo son user_id y operator_id lo que indica que estos tienden a tener un incremento juntos si se evaluan\n",
    "\n",
    "-Por otro lado los factores negativos como is_missed_call y call_duration no indica que si algun de los sube el otro bajara \n",
    "\n",
    "-Esta matriz nos ayuda para ver que datos podemos medir en conjunto."
   ]
  },
  {
   "cell_type": "markdown",
   "metadata": {},
   "source": [
    "### Porcentaje de llamadas perdidas por operador"
   ]
  },
  {
   "cell_type": "code",
   "execution_count": 22,
   "metadata": {},
   "outputs": [
    {
     "name": "stdout",
     "output_type": "stream",
     "text": [
      "False    27436\n",
      "True     14110\n",
      "Name: is_missed_call, dtype: int64\n",
      "702145\n"
     ]
    }
   ],
   "source": [
    "print(df_telecom['is_missed_call'].value_counts())\n",
    "print(df_telecom['calls_count'].sum())"
   ]
  },
  {
   "cell_type": "code",
   "execution_count": 23,
   "metadata": {},
   "outputs": [
    {
     "name": "stdout",
     "output_type": "stream",
     "text": [
      "operator_id\n",
      "879896    0.269892\n",
      "879898    0.322713\n",
      "880020    0.488889\n",
      "880022    0.532995\n",
      "880026    0.290323\n",
      "            ...   \n",
      "972410    0.480519\n",
      "972412    0.409836\n",
      "972460    0.549020\n",
      "973120    0.666667\n",
      "973286         NaN\n",
      "Name: calls_count, Length: 1092, dtype: float64\n"
     ]
    }
   ],
   "source": [
    "df_missed = df_telecom[df_telecom['is_missed_call']==True].groupby('operator_id')['calls_count'].sum() / df_telecom.groupby('operator_id')['calls_count'].sum()\n",
    "\n",
    "print(df_missed)"
   ]
  },
  {
   "cell_type": "code",
   "execution_count": 24,
   "metadata": {},
   "outputs": [
    {
     "name": "stdout",
     "output_type": "stream",
     "text": [
      "operator_id\n",
      "879896    0.269892\n",
      "879898    0.322713\n",
      "880020    0.488889\n",
      "880022    0.532995\n",
      "880026    0.290323\n",
      "            ...   \n",
      "972408    0.333333\n",
      "972410    0.480519\n",
      "972412    0.409836\n",
      "972460    0.549020\n",
      "973120    0.666667\n",
      "Name: calls_count, Length: 830, dtype: float64\n"
     ]
    }
   ],
   "source": [
    "filter_missed = df_missed[df_missed>=0.05] \n",
    "print(filter_missed)"
   ]
  },
  {
   "cell_type": "code",
   "execution_count": 25,
   "metadata": {},
   "outputs": [
    {
     "data": {
      "image/png": "[encoded data removed]",
      "text/plain": [
       "<Figure size 640x480 with 1 Axes>"
      ]
     },
     "metadata": {},
     "output_type": "display_data"
    }
   ],
   "source": [
    "df_missed.hist()\n",
    "plt.title('Tasa de Llamadas Perdidas por Operador')\n",
    "plt.xlabel('Tasa de Llamadas Perdidas')\n",
    "plt.ylabel('Frecuencia')\n",
    "plt.xticks(rotation=90)\n",
    "plt.show()"
   ]
  },
  {
   "cell_type": "markdown",
   "metadata": {},
   "source": [
    "<div class=\"alert alert-block alert-danger\">\n",
    "<b>Comentario del revisor (1ra Iteracion)</b> <a class=“tocSkip”></a>\n",
    "\n",
    "Los gráficos de dispersión se usan generalmente para visualizar la correlación entre dos variables, pero en este caso estás mostrando el ID del operador que no tendrá correlación ese número con la tasa de llamadas perdidas. Deberías utilizar un gráfico de barras procurando aplicar los filtros necesarios para no generar demasiadas barras que no aporten valor en la gráfica. Además, debes especificar que columnas deben ir en X y en Y para evitar errores al momento de generar la gráfica\n",
    "</div>"
   ]
  },
  {
   "cell_type": "markdown",
   "metadata": {},
   "source": [
    "<div class=\"alert alert-block alert-success\">\n",
    "<b>Comentario del revisor (2da Iteracion)</b> <a class=“tocSkip”></a>\n",
    "\n",
    "Buen trabajo con el cambio! Esta gráfica es mucho más clara que la anterior\n",
    "</div>"
   ]
  },
  {
   "cell_type": "code",
   "execution_count": 26,
   "metadata": {},
   "outputs": [
    {
     "name": "stdout",
     "output_type": "stream",
     "text": [
      "operator_id\n",
      "879896    0.269892\n",
      "879898    0.322713\n",
      "880020    0.488889\n",
      "880022    0.532995\n",
      "880026    0.290323\n",
      "            ...   \n",
      "972408    0.333333\n",
      "972410    0.480519\n",
      "972412    0.409836\n",
      "972460    0.549020\n",
      "973120    0.666667\n",
      "Name: calls_count, Length: 830, dtype: float64\n"
     ]
    }
   ],
   "source": [
    "print(df_missed[ df_missed > 0.05])"
   ]
  },
  {
   "cell_type": "markdown",
   "metadata": {},
   "source": [
    "-Como podemos ver de los operadores la gran mayoria tiene entre un 20% y 40% de llamadas perdidas es un gran porcentaje, por lo que verificar los sistemas por alguna fallo, gestionar correctamente la cantidad de llamadas en comparacion con la cantidad de operadores serian un buen punto de partida para encontrar los problemas de esta alta tasa de llamadas perdidas\n"
   ]
  },
  {
   "cell_type": "markdown",
   "metadata": {},
   "source": [
    "### Promedio de duracion de llamada y duracion total"
   ]
  },
  {
   "cell_type": "code",
   "execution_count": 27,
   "metadata": {},
   "outputs": [
    {
     "name": "stdout",
     "output_type": "stream",
     "text": [
      "      operator_id  call_duration  total_call_duration\n",
      "0          879896     545.829060           650.743590\n",
      "1          879898    1133.881057          1591.577093\n",
      "2          880020     112.250000           126.250000\n",
      "3          880022     216.385714           270.357143\n",
      "4          880026     842.450549           964.428571\n",
      "...           ...            ...                  ...\n",
      "1087       972410     944.250000          1318.750000\n",
      "1088       972412     699.600000           909.600000\n",
      "1089       972460     174.000000           262.571429\n",
      "1090       973120       2.500000            12.500000\n",
      "1091       973286      17.000000           105.000000\n",
      "\n",
      "[1092 rows x 3 columns]\n"
     ]
    }
   ],
   "source": [
    "df_call_duration = df_telecom.groupby('operator_id').agg({'call_duration':'mean','total_call_duration':'mean'}).reset_index()\n",
    "\n",
    "print(df_call_duration)"
   ]
  },
  {
   "cell_type": "code",
   "execution_count": 28,
   "metadata": {
    "scrolled": false
   },
   "outputs": [
    {
     "data": {
      "image/png": "[encoded data removed]",
      "text/plain": [
       "<Figure size 640x480 with 1 Axes>"
      ]
     },
     "metadata": {},
     "output_type": "display_data"
    }
   ],
   "source": [
    "plt.scatter(df_call_duration['call_duration'],df_call_duration['total_call_duration'])\n",
    "plt.xlabel('Duracion promedio de llamada')\n",
    "plt.ylabel('Duracion total promedio de llamada')\n",
    "plt.show()"
   ]
  },
  {
   "cell_type": "markdown",
   "metadata": {},
   "source": [
    "<div class=\"alert alert-block alert-danger\">\n",
    "<b>Comentario del revisor (1ra Iteracion)</b> <a class=“tocSkip”></a>\n",
    "\n",
    "Los gráficos de barras son ideales para la comparación, pero aquí no se puede visualizar las diferencias entre operadores, además en este dataset no tienes el ID de operadores por lo que la descripción del eje X es errónea\n",
    "</div>"
   ]
  },
  {
   "cell_type": "markdown",
   "metadata": {},
   "source": [
    "<div class=\"alert alert-block alert-success\">\n",
    "<b>Comentario del revisor (2da Iteracion)</b> <a class=“tocSkip”></a>\n",
    "\n",
    "Correcto, ahora estás aplicando la gráfica de manera adecuada\n",
    "</div>"
   ]
  },
  {
   "cell_type": "code",
   "execution_count": 29,
   "metadata": {},
   "outputs": [
    {
     "name": "stdout",
     "output_type": "stream",
     "text": [
      "      operator_id  call_duration  total_call_duration\n",
      "0          879896     545.829060           650.743590\n",
      "1          879898    1133.881057          1591.577093\n",
      "4          880026     842.450549           964.428571\n",
      "5          880028     726.752475           936.930693\n",
      "11         882684    1407.298701          1535.779221\n",
      "...           ...            ...                  ...\n",
      "1070       969294     758.800000           845.200000\n",
      "1073       969600    3911.500000          4041.500000\n",
      "1084       971102    2653.000000          2991.000000\n",
      "1087       972410     944.250000          1318.750000\n",
      "1088       972412     699.600000           909.600000\n",
      "\n",
      "[358 rows x 3 columns]\n"
     ]
    }
   ],
   "source": [
    "print(df_call_duration[df_call_duration['call_duration']>480])"
   ]
  },
  {
   "cell_type": "markdown",
   "metadata": {},
   "source": [
    "-Por lo que podemos observar si un operador tiene una baja duracion de la llamada tiende a tener una duracion total baja por lo que con esto podemos identificar a operadores con tiempos extremos de duracion de llamada y los que tienen tiempo de espera muy largos por lo que permitar ver el flujo que estos estan haciendo, permitien identificar problemas de software o una mala gestion en la atencion"
   ]
  },
  {
   "cell_type": "markdown",
   "metadata": {},
   "source": [
    "### Porcentaje de llamadas internas"
   ]
  },
  {
   "cell_type": "code",
   "execution_count": 30,
   "metadata": {},
   "outputs": [
    {
     "name": "stdout",
     "output_type": "stream",
     "text": [
      "operator_id\n",
      "879896    0.060215\n",
      "879898    0.002461\n",
      "880020    0.088889\n",
      "880022    0.076142\n",
      "880026    0.008961\n",
      "            ...   \n",
      "972410         NaN\n",
      "972412         NaN\n",
      "972460    0.058824\n",
      "973120         NaN\n",
      "973286         NaN\n",
      "Name: calls_count, Length: 1092, dtype: float64\n"
     ]
    }
   ],
   "source": [
    "df_internal_calls = df_telecom[df_telecom['internal']==True].groupby('operator_id')['calls_count'].sum() / df_telecom.groupby('operator_id')['calls_count'].sum()\n",
    "\n",
    "print(df_internal_calls)"
   ]
  },
  {
   "cell_type": "code",
   "execution_count": 31,
   "metadata": {},
   "outputs": [
    {
     "data": {
      "image/png": "[encoded data removed]",
      "text/plain": [
       "<Figure size 640x480 with 1 Axes>"
      ]
     },
     "metadata": {},
     "output_type": "display_data"
    }
   ],
   "source": [
    "df_internal_calls.hist()\n",
    "plt.title('Tasa de Llamadas Interna por Operador')\n",
    "plt.xlabel('Tasa de Llamadas')\n",
    "plt.ylabel('Frecuencia')\n",
    "plt.show()"
   ]
  },
  {
   "cell_type": "markdown",
   "metadata": {},
   "source": [
    "<div class=\"alert alert-block alert-danger\">\n",
    "<b>Comentario del revisor (1ra Iteracion)</b> <a class=“tocSkip”></a>\n",
    "\n",
    "Esta gráfica tiene el mismo problema que la anterior de tipo scatter\n",
    "</div>"
   ]
  },
  {
   "cell_type": "code",
   "execution_count": 32,
   "metadata": {},
   "outputs": [
    {
     "name": "stdout",
     "output_type": "stream",
     "text": [
      "operator_id\n",
      "881278    0.400000\n",
      "882478    0.750000\n",
      "884402    0.750000\n",
      "884406    1.000000\n",
      "884408    0.333333\n",
      "            ...   \n",
      "969284    1.000000\n",
      "969286    0.250000\n",
      "969380    0.875000\n",
      "970244    0.250000\n",
      "970254    0.250000\n",
      "Name: calls_count, Length: 194, dtype: float64\n"
     ]
    }
   ],
   "source": [
    "print(df_internal_calls[df_internal_calls > 0.2])"
   ]
  },
  {
   "cell_type": "markdown",
   "metadata": {},
   "source": [
    "-La gran mayoria de los operadores tiene menos de un 20% llamas internas(transferencias a otro operador) por lo cual la mayoria maneja cada una de sus llamadas, los que cuentan con mas de un 20% se tendria que investigar el porque ya que puede ser que estos no esten capacitados o que la llamada no era para gestiones normales.\n"
   ]
  },
  {
   "cell_type": "markdown",
   "metadata": {},
   "source": [
    "### Cantidad de llamadas in y out"
   ]
  },
  {
   "cell_type": "code",
   "execution_count": 33,
   "metadata": {},
   "outputs": [
    {
     "name": "stdout",
     "output_type": "stream",
     "text": [
      "direction\n",
      "in      93802\n",
      "out    608343\n",
      "Name: calls_count, dtype: int64\n"
     ]
    }
   ],
   "source": [
    "calls_count_dir2 = df_telecom.groupby('direction')['calls_count'].sum()\n",
    "print(calls_count_dir2)"
   ]
  },
  {
   "cell_type": "code",
   "execution_count": 34,
   "metadata": {},
   "outputs": [
    {
     "data": {
      "text/plain": [
       "<function matplotlib.pyplot.show(close=None, block=None)>"
      ]
     },
     "execution_count": 34,
     "metadata": {},
     "output_type": "execute_result"
    },
    {
     "data": {
      "image/png": "[encoded data removed]",
      "text/plain": [
       "<Figure size 640x480 with 1 Axes>"
      ]
     },
     "metadata": {},
     "output_type": "display_data"
    }
   ],
   "source": [
    "calls_count_dir2.plot(kind='bar')\n",
    "plt.title('Cantidad de llamadas por direccion')\n",
    "plt.xlabel('Direcion llamada')\n",
    "plt.ylabel('Cantidad de llamadas')\n",
    "plt.show"
   ]
  },
  {
   "cell_type": "markdown",
   "metadata": {},
   "source": [
    "-Como se puede la tendencia es a un mayor numero de llamadas salientes que entrantes, se tiene que investigar mas por el motivo de estas llamadas ya que pueden ser por una reconexion de una llamada entrante o para completar un servicio que se requeria "
   ]
  },
  {
   "cell_type": "markdown",
   "metadata": {},
   "source": [
    "<div class=\"alert alert-block alert-danger\">\n",
    "<b>Comentario del revisor (1ra Iteracion)</b> <a class=“tocSkip”></a>\n",
    "\n",
    "Igual que la gráfica anterior esto no se puede visualizar y no aporta valor a la empresa cuando se quiera revisar la cantidad de llamadas.\n",
    "</div>"
   ]
  },
  {
   "cell_type": "markdown",
   "metadata": {},
   "source": [
    "### Tiempo de espera promedio por direccion de llamada"
   ]
  },
  {
   "cell_type": "code",
   "execution_count": 35,
   "metadata": {},
   "outputs": [
    {
     "name": "stdout",
     "output_type": "stream",
     "text": [
      "direction           in         out\n",
      "operator_id                       \n",
      "879896       27.333333  121.885417\n",
      "879898       29.473684  601.276471\n",
      "880020        7.714286   17.384615\n",
      "880022       14.000000   59.129032\n",
      "880026        7.944444  134.493902\n",
      "...                ...         ...\n",
      "972410             NaN  374.500000\n",
      "972412       25.000000  256.250000\n",
      "972460        4.000000  102.666667\n",
      "973120             NaN   10.000000\n",
      "973286       88.000000         NaN\n",
      "\n",
      "[1092 rows x 2 columns]\n"
     ]
    }
   ],
   "source": [
    "#solo para tener filtro por operador\n",
    "df_waitin_calls = df_telecom.pivot_table(index='operator_id',columns='direction',values='waiting_t',aggfunc='mean')\n",
    "print(df_waitin_calls)"
   ]
  },
  {
   "cell_type": "code",
   "execution_count": 36,
   "metadata": {},
   "outputs": [
    {
     "name": "stdout",
     "output_type": "stream",
     "text": [
      "direction\n",
      "in      96.857378\n",
      "out    406.821227\n",
      "Name: waiting_t, dtype: float64\n"
     ]
    }
   ],
   "source": [
    "df_waitin_calls2 = df_telecom.groupby('direction')['waiting_t'].mean() \n",
    "\n",
    "print(df_waitin_calls2)"
   ]
  },
  {
   "cell_type": "code",
   "execution_count": 37,
   "metadata": {},
   "outputs": [
    {
     "data": {
      "text/plain": [
       "<function matplotlib.pyplot.show(close=None, block=None)>"
      ]
     },
     "execution_count": 37,
     "metadata": {},
     "output_type": "execute_result"
    },
    {
     "data": {
      "image/png": "[encoded data removed]",
      "text/plain": [
       "<Figure size 640x480 with 1 Axes>"
      ]
     },
     "metadata": {},
     "output_type": "display_data"
    }
   ],
   "source": [
    "df_waitin_calls2 .plot(kind='bar')\n",
    "plt.title('Cantidad de llamadas por direccion')\n",
    "plt.xlabel('Direcion llamada')\n",
    "plt.ylabel('Cantidad de llamadas')\n",
    "plt.show"
   ]
  },
  {
   "cell_type": "markdown",
   "metadata": {},
   "source": [
    "-Como se puede ver los tiempos de espera promedio son mayores en las llamadas salientes por lo que se tiene que verificar el motivo, ya que puede ser por falta de operadores, dar preferencia a las llamadas salientes o problemas con el sistema cuando se trata de realizar una llamada"
   ]
  },
  {
   "cell_type": "code",
   "execution_count": 38,
   "metadata": {},
   "outputs": [
    {
     "name": "stdout",
     "output_type": "stream",
     "text": [
      "direction            in          out\n",
      "operator_id                         \n",
      "882684       190.520000    98.653846\n",
      "882686       165.750000   342.384615\n",
      "882688       336.500000   105.857143\n",
      "882690       322.818182   720.707317\n",
      "885890       120.276596  9004.377358\n",
      "...                 ...          ...\n",
      "962902       134.166667   212.323529\n",
      "969272       233.375000   169.181818\n",
      "969294       177.500000    25.666667\n",
      "970254       121.000000    48.500000\n",
      "971102       338.000000          NaN\n",
      "\n",
      "[68 rows x 2 columns]\n"
     ]
    }
   ],
   "source": [
    "print(df_waitin_calls[df_waitin_calls['in']>120])"
   ]
  },
  {
   "cell_type": "markdown",
   "metadata": {},
   "source": [
    "### Cantidad de llamadas por plan"
   ]
  },
  {
   "cell_type": "code",
   "execution_count": 39,
   "metadata": {},
   "outputs": [],
   "source": [
    "telecom_merge = df_telecom.merge(df_telecom_clients, on='user_id')"
   ]
  },
  {
   "cell_type": "code",
   "execution_count": 40,
   "metadata": {},
   "outputs": [
    {
     "name": "stdout",
     "output_type": "stream",
     "text": [
      "C    14837\n",
      "B    14483\n",
      "A    12226\n",
      "Name: tariff_plan, dtype: int64\n"
     ]
    }
   ],
   "source": [
    "print(telecom_merge['tariff_plan'].value_counts())"
   ]
  },
  {
   "cell_type": "code",
   "execution_count": 41,
   "metadata": {},
   "outputs": [
    {
     "name": "stdout",
     "output_type": "stream",
     "text": [
      "direction       in     out\n",
      "tariff_plan               \n",
      "A            31803  348468\n",
      "B            28210  110501\n",
      "C            33789  149374\n"
     ]
    }
   ],
   "source": [
    "cnt_tariff = telecom_merge.pivot_table(index='tariff_plan',columns='direction',values='calls_count',aggfunc='sum',fill_value=0)\n",
    "\n",
    "print(cnt_tariff)"
   ]
  },
  {
   "cell_type": "code",
   "execution_count": 42,
   "metadata": {},
   "outputs": [
    {
     "data": {
      "image/png": "[encoded data removed]",
      "text/plain": [
       "<Figure size 1200x600 with 1 Axes>"
      ]
     },
     "metadata": {},
     "output_type": "display_data"
    }
   ],
   "source": [
    "cnt_tariff.plot(kind='bar', figsize=(12, 6))\n",
    "plt.title('Total de Llamadas por  Plan de Tarifa')\n",
    "plt.xlabel('Plan')\n",
    "plt.ylabel('Número de Llamadas')\n",
    "plt.legend(title='Direccion')\n",
    "plt.show()"
   ]
  },
  {
   "cell_type": "markdown",
   "metadata": {},
   "source": [
    "-En cuanto a las direccion de llamadas como se venia observando las llamadas salientes son mayores a la entrantes en todos los planes siendo el plan el A con mayor llamadas salientes, ya que no se especifica el motivo de una llamada saliente que puede ser venta de servicios, para completar alguna gestion, cobranza, etc. se tiene monitorear el porque de esta gran cantidad\n",
    "\n",
    "-Por su parte el plan es el que cuenta con llamadas entrantes siendo probable el que mas interesados tenga para contratar, de ser el caso seria una buena opcion comparar las caracteristicas de todos los planes para ver el motivo de su preferencia."
   ]
  },
  {
   "cell_type": "markdown",
   "metadata": {},
   "source": [
    "<div class=\"alert alert-block alert-danger\">\n",
    "<b>Comentario del revisor (1ra Iteracion)</b> <a class=“tocSkip”></a>\n",
    "\n",
    "Todas las gráficas de barras mostradas no son correctas ya que no tienen claridad en lo que estás mostrando, para generar una gráfica correcta procura especificar que columna tomarás en el eje X y en el eje Y\n",
    "</div>"
   ]
  },
  {
   "cell_type": "markdown",
   "metadata": {},
   "source": [
    "<div class=\"alert alert-block alert-success\">\n",
    "<b>Comentario del revisor (2da Iteracion)</b> <a class=“tocSkip”></a>\n",
    "\n",
    "Buen trabajo con el cambio de las gráficas, ahora son mucho más claras en cuanto a lo que se intenta comunicar\n",
    "</div>"
   ]
  },
  {
   "cell_type": "markdown",
   "metadata": {},
   "source": [
    "### Cantidad de cliente por mes"
   ]
  },
  {
   "cell_type": "code",
   "execution_count": 43,
   "metadata": {},
   "outputs": [
    {
     "data": {
      "image/png": "[encoded data removed]",
      "text/plain": [
       "<Figure size 1200x600 with 1 Axes>"
      ]
     },
     "metadata": {},
     "output_type": "display_data"
    }
   ],
   "source": [
    "telecom_merge['date_start_month'] = telecom_merge['date_start'].dt.to_period('M')\n",
    "\n",
    "monthly_registrations = telecom_merge.groupby([telecom_merge['date_start_month'], 'tariff_plan']).size().unstack(fill_value=0)\n",
    "\n",
    "# Graficar\n",
    "monthly_registrations.plot(kind='line', figsize=(12, 6))\n",
    "plt.title('Tendencia de  Clientes por Plan de Tarifa')\n",
    "plt.xlabel('Mes de Registro')\n",
    "plt.ylabel('Número de Clientes')\n",
    "plt.legend(title='Plan de Tarifa')\n",
    "plt.show()"
   ]
  },
  {
   "cell_type": "markdown",
   "metadata": {},
   "source": [
    "-Como podemos ver los planes B y C cuenta con mas registros incialmente en el mes de Agosto que el plan A pero los 2 mencionados fueron bajando el numero de registros considerablemente mientra que el plan A conto un repunte\n",
    "\n",
    "-Debido a lo anterior se tiene que ajustar los planes B y C a los servicios que ofrece el plan A para que estos logren un incremento en los registros"
   ]
  },
  {
   "cell_type": "markdown",
   "metadata": {},
   "source": [
    "<div class=\"alert alert-block alert-success\">\n",
    "<b>Comentario del revisor (1ra Iteracion)</b> <a class=“tocSkip”></a>\n",
    "\n",
    "Buen trabajo revisando en cada mes por cada plan\n",
    "</div>"
   ]
  },
  {
   "cell_type": "markdown",
   "metadata": {},
   "source": [
    "## Hipotesis"
   ]
  },
  {
   "cell_type": "markdown",
   "metadata": {},
   "source": [
    "### Prueba llamadas entrantes y salientes\n",
    "\n",
    "H0 = Las llamadas entrantes son iguales a las llamadas salientes\n",
    "\n",
    "H1 = las llamadas entrantes son diferenctes de la llamadas salientes"
   ]
  },
  {
   "cell_type": "code",
   "execution_count": 44,
   "metadata": {},
   "outputs": [
    {
     "name": "stdout",
     "output_type": "stream",
     "text": [
      "Valor p: 0.0025475348938433476\n",
      "Rechazamos la hipotesis nula\n"
     ]
    }
   ],
   "source": [
    "alpha = 0.05\n",
    "in_calls = telecom_merge[telecom_merge['direction']=='in'].groupby('operator_id')['calls_count'].sum()\n",
    "out_calls = telecom_merge[telecom_merge['direction']=='out'].groupby('operator_id')['calls_count'].sum()\n",
    "\n",
    "#igualar los dataframe para realizar pla prueba\n",
    "aligned_in_calls, aligned_out_calls = in_calls.align(out_calls, join='inner')\n",
    "result = st.ttest_rel(aligned_in_calls, aligned_out_calls)\n",
    "\n",
    "print(\"Valor p:\", result.pvalue)\n",
    "\n",
    "if result.pvalue < alpha:\n",
    "    print('Rechazamos la hipotesis nula')\n",
    "else:\n",
    "    print('No podemos rechazar la hipotesis nula')"
   ]
  },
  {
   "cell_type": "markdown",
   "metadata": {},
   "source": [
    "-Con la prueba se comprobo que si existe una diferencia entre las llamadas entrantes y salientes, por lo que podemos decir que los operadores estan tieniendo un flujo diferente de llamadas entrantes y salientes por lo que se podria identificar operadores que solo esten enfocando en una direccion de llamada."
   ]
  },
  {
   "cell_type": "markdown",
   "metadata": {},
   "source": [
    "### Comparacion tiempo de espera\n",
    "\n",
    "H0: La duración promedio de espera es igual entre llamadas entrantes y salientes.\n",
    "\n",
    "H1: La duración promedio de espera difiere entre llamadas entrantes y salientes."
   ]
  },
  {
   "cell_type": "code",
   "execution_count": 45,
   "metadata": {},
   "outputs": [
    {
     "name": "stdout",
     "output_type": "stream",
     "text": [
      "Valor p: 3.9524871311973736e-18\n",
      "Rechazamos la hipotesis nula\n"
     ]
    }
   ],
   "source": [
    "# Filtrar llamadas entrantes y salientes, y calcular el tiempo de espera promedio\n",
    "waiting_in = df_telecom[df_telecom['direction'] == 'in'].groupby('operator_id')['waiting_t'].mean()\n",
    "waiting_out = df_telecom[df_telecom['direction'] == 'out'].groupby('operator_id')['waiting_t'].mean()\n",
    "\n",
    "\n",
    "\n",
    "# Prueba t para muestras independientes\n",
    "result2 = st.ttest_ind(waiting_in, waiting_out)\n",
    "\n",
    "print(\"Valor p:\", result2.pvalue)\n",
    "\n",
    "if result2.pvalue < alpha:\n",
    "    print('Rechazamos la hipotesis nula')\n",
    "else:\n",
    "    print('No podemos rechazar la hipotesis nula')"
   ]
  },
  {
   "cell_type": "markdown",
   "metadata": {},
   "source": [
    "-Con los resultados de la prueba se puede ver que los tiempo de espera son diferentes para llamadas entrantes y salientes, por lo que se podria identficar a operadores que esten demorando mas en unas llamadas(direccion de llamadas) que en otras por falta de preparacion o por que estan recibiendo demasiada llamadas."
   ]
  },
  {
   "cell_type": "markdown",
   "metadata": {},
   "source": [
    "### Prueba duracion de llamadas y duracion total de llamada\n",
    "H0 = La duracion de la llamada es igual a la duracion total de la llamada\n",
    "\n",
    "H1 = la La duracion de la llamada es diferente a la duracion total de la llamada"
   ]
  },
  {
   "cell_type": "code",
   "execution_count": 46,
   "metadata": {},
   "outputs": [
    {
     "name": "stdout",
     "output_type": "stream",
     "text": [
      "pvlau0.000014617043999601\n",
      "Rechazamos la hipotesis nula\n"
     ]
    }
   ],
   "source": [
    "test_call = telecom_merge[telecom_merge['call_duration']>0]\n",
    "test_call_t = telecom_merge[telecom_merge['total_call_duration']>0]\n",
    "results3 = st.ttest_ind(test_call['call_duration'],test_call_t['total_call_duration'])\n",
    "print('pvlau{:.18f}'.format(results3.pvalue) )\n",
    "\n",
    "if results3.pvalue < alpha:\n",
    "        print('Rechazamos la hipotesis nula')\n",
    "else:\n",
    "    print('No podemos rechazar la hipotesis nula')"
   ]
  },
  {
   "cell_type": "markdown",
   "metadata": {},
   "source": [
    "-Con la prueba podemos ver que la duracion de las llamadas y el duracion total no son iguales, por lo que los tiempos de espera estarian siendo la diferencia, permitiondo enfocarse en los operadores que cuenten con una diferencia significativa en estos 2 tiempos."
   ]
  },
  {
   "cell_type": "markdown",
   "metadata": {},
   "source": [
    "### Duracion de llamada de los planes\n",
    "\n",
    "H0 = todos lo planes cuentan con las misma duracion de llamada\n",
    "\n",
    "H1 = Los planes cuentan con diferentes duraciones de llamadas"
   ]
  },
  {
   "cell_type": "code",
   "execution_count": 47,
   "metadata": {},
   "outputs": [],
   "source": [
    "plan_a = telecom_merge[telecom_merge['tariff_plan']=='A']['call_duration']\n",
    "plan_b = telecom_merge[telecom_merge['tariff_plan']=='B']['call_duration']\n",
    "plan_c = telecom_merge[telecom_merge['tariff_plan']=='C']['call_duration']"
   ]
  },
  {
   "cell_type": "code",
   "execution_count": 48,
   "metadata": {},
   "outputs": [
    {
     "name": "stdout",
     "output_type": "stream",
     "text": [
      "p_value: 8.476635045377286e-125\n",
      "Rechazamos la hipotesis nula\n"
     ]
    }
   ],
   "source": [
    "#test de ANOVO para multiples grupos\n",
    "results4 = st.f_oneway(plan_a,plan_b,plan_c)\n",
    "print('p_value:',results4.pvalue)\n",
    "if results4.pvalue < alpha:\n",
    "        print('Rechazamos la hipotesis nula')\n",
    "else:\n",
    "    print('No podemos rechazar la hipotesis nula')"
   ]
  },
  {
   "cell_type": "markdown",
   "metadata": {},
   "source": [
    "-Como podemos ver por la prueba la duracion de las llamadas es diferente para cada plan A, B Y C, por lo cual se tendria que verificar los operadores que tienen un menor tiempo en un plan y en los otros no para verificar que este no lo este realizando aproposito debido a que las llamadas relacionadas a un plan pueden ser mas faciles de solucionar o que las personas relacionadas un plan contraten mas serivicios dejando al operdor con mayores bonos.\n"
   ]
  },
  {
   "cell_type": "markdown",
   "metadata": {},
   "source": [
    "<div class=\"alert alert-block alert-danger\">\n",
    "<b>Comentario del revisor (1ra Iteracion)</b> <a class=“tocSkip”></a>\n",
    "\n",
    "Buen trabajo con la aplicación de las pruebas estadísticas, pero aquí debes aclarar cómo ayudan las mismas a determinar cómo afectan los operadores ineficientes a la empresa cómo se menciona en el objetivo del proyecto\n",
    "</div>"
   ]
  },
  {
   "cell_type": "markdown",
   "metadata": {},
   "source": [
    "## Conclusiones y recomendaciones"
   ]
  },
  {
   "cell_type": "markdown",
   "metadata": {},
   "source": [
    "-Considerando que la tasa de llamadas perdidas normales puede ser entre un 2% a 5%, un 76% de los operadores estaria sobre este umbral por lo que por ejemplo tener mas operadores para probar si este numero disminuye\n",
    "\n",
    "-El promedio de duracion de llamada por lo general es de 6 minutos y 10 segundos para este caso y tomaremos 8 minutos que es para garantizar la calidad de la llamada, aproximadamente un 33%  de los operadores estarian sobrepasando esto, por lo que estar vigilando por ejemplo los tiempos en silencio o verificar que el operador este haciendo el flujo para una gestion correctamente es esencial para disminuir la duracion de la llamada sin afectar la calidad del servicio\n",
    "\n",
    "-Dentro de los planes los que sobrepasan el umbral son un 12% para el A, 11% para el plan B y un 10% para el C, por lo que hay que investigar el motivo de esto para los diferentes planes .\n",
    "\n",
    "-El promedio de tranferiecia considerado bueno o aceptable es entre un 11% y 20%, aproximadamente un 18% de los operadores esta sobre esto por lo que mejorar el conocimiento con respecto a los servicios o mejorar el acceso a la informacion ayudaria a mejorar esta tasa.\n",
    "\n",
    "-El tiempo promedio en el que el usuario abandona una llamada es de 2 minutos y 36 segundosm, por lo que dejar un tiempo de espera menor o igual a 2 minutos seria aceptable, con esto en mente aproximadamente un 7% de los operadores contemplando las llamadas entrantes contaron con un porcentaje mayor al tiempo definido, para ir mejorando se pordria verificar las colas de llamadas en relacion a la cantidad de operadores o talvez implementar soluciones de auto ayuda para que los usuarios no requieran llamar para cuestiones que puedan solucionar ellos.\n",
    "\n",
    "-La cantidad de usuario por plan en los 3 meses que se poseen registros fue disminuyendo para los planes B Y C siendo que estos tenian la mayor cantidad de registros inicialmente y el plan A que tenia pocos subio considerablemente al final del ultimo mes, por lo que tomar caracteristicas de este plan como modelo para implementarlo en los otros y aumentar la cantidad usuarios en estos.\n",
    "\n"
   ]
  },
  {
   "cell_type": "markdown",
   "metadata": {},
   "source": [
    "<div class=\"alert alert-block alert-danger\">\n",
    "<b>Comentario del revisor (1ra Iteracion)</b> <a class=“tocSkip”></a>\n",
    "\n",
    "Buen trabajo con el avance de tu proyecto Brayan! Hay algunos puntos que necesitan cambios para que tu proyecto quede mejor presentado, recuerda que si tienes dificultad para resolver o necesitas una guía más detallada de tu proyecto puedes contactar a tu CM que de ser necesario te ayudará con tutorías para que resuelvas tu proyecto. Saludos!\n",
    "</div>"
   ]
  },
  {
   "cell_type": "markdown",
   "metadata": {},
   "source": [
    "<div class=\"alert alert-block alert-success\">\n",
    "<b>Comentario del revisor (2da Iteracion)</b> <a class=“tocSkip”></a>\n",
    "\n",
    "**¡Te felicito por el trabajo realizado Brayan!** Con este proyecto demuestras las habilidades adquiridas durante tu formación, se nota tu capacidad de contar historias con datos con la excelente presentación realizada que súper fácil de entender lo cual es una habilidad super importante cómo analista de datos, el saber comunicar de manera sencilla y eficiente los resultados de tus análisis.\n",
    "    \n",
    "Se nota mucho el manejo que tienes de las librerías para crear visualizaciones muy buenas que explican correctamente las variables analizadas, te animo a seguir práctica con otros recursos y que vayas construyendo un portafolio de proyectos súper robusto para que seas una profesional de primera en el mundo laboral.\n",
    "   \n",
    "Saludos!\n",
    "</div>"
   ]
  }
 ],
 "metadata": {
  "ExecuteTimeLog": [
   {
    "duration": 2512,
    "start_time": "2024-11-05T19:23:19.469Z"
   },
   {
    "duration": 72,
    "start_time": "2024-11-05T19:23:52.626Z"
   },
   {
    "duration": 15,
    "start_time": "2024-11-05T19:24:00.225Z"
   },
   {
    "duration": 8,
    "start_time": "2024-11-05T19:24:12.182Z"
   },
   {
    "duration": 9,
    "start_time": "2024-11-05T19:24:21.907Z"
   },
   {
    "duration": 3,
    "start_time": "2024-11-05T19:24:28.557Z"
   },
   {
    "duration": 3,
    "start_time": "2024-11-05T19:24:50.609Z"
   },
   {
    "duration": 3,
    "start_time": "2024-11-05T19:26:17.432Z"
   },
   {
    "duration": 9,
    "start_time": "2024-11-05T19:26:23.047Z"
   },
   {
    "duration": 490,
    "start_time": "2024-11-05T19:26:30.227Z"
   },
   {
    "duration": 38,
    "start_time": "2024-11-05T19:27:11.612Z"
   },
   {
    "duration": 27,
    "start_time": "2024-11-05T19:27:21.823Z"
   },
   {
    "duration": 13,
    "start_time": "2024-11-05T19:27:33.143Z"
   },
   {
    "duration": 19,
    "start_time": "2024-11-05T19:27:44.116Z"
   },
   {
    "duration": 8,
    "start_time": "2024-11-05T19:28:11.256Z"
   },
   {
    "duration": 11,
    "start_time": "2024-11-05T19:28:21.939Z"
   },
   {
    "duration": 23,
    "start_time": "2024-11-05T19:29:52.019Z"
   },
   {
    "duration": 9,
    "start_time": "2024-11-05T19:29:58.256Z"
   },
   {
    "duration": 10,
    "start_time": "2024-11-05T19:30:14.455Z"
   },
   {
    "duration": 9,
    "start_time": "2024-11-05T19:30:59.276Z"
   },
   {
    "duration": 5,
    "start_time": "2024-11-05T19:31:21.730Z"
   },
   {
    "duration": 10,
    "start_time": "2024-11-05T19:31:34.647Z"
   },
   {
    "duration": 5,
    "start_time": "2024-11-05T19:31:41.429Z"
   },
   {
    "duration": 4,
    "start_time": "2024-11-05T19:31:47.047Z"
   },
   {
    "duration": 95,
    "start_time": "2024-11-05T19:32:30.479Z"
   },
   {
    "duration": 15,
    "start_time": "2024-11-05T19:32:39.922Z"
   },
   {
    "duration": 5,
    "start_time": "2024-11-05T19:32:49.305Z"
   },
   {
    "duration": 9,
    "start_time": "2024-11-05T19:33:03.985Z"
   },
   {
    "duration": 9,
    "start_time": "2024-11-05T19:33:10.486Z"
   },
   {
    "duration": 10,
    "start_time": "2024-11-05T19:33:17.961Z"
   },
   {
    "duration": 14,
    "start_time": "2024-11-05T19:34:04.412Z"
   },
   {
    "duration": 11,
    "start_time": "2024-11-05T19:34:11.267Z"
   },
   {
    "duration": 17,
    "start_time": "2024-11-05T19:34:26.155Z"
   },
   {
    "duration": 15,
    "start_time": "2024-11-05T19:34:35.841Z"
   },
   {
    "duration": 17,
    "start_time": "2024-11-05T19:34:42.710Z"
   },
   {
    "duration": 798,
    "start_time": "2024-11-05T21:54:25.389Z"
   },
   {
    "duration": 45,
    "start_time": "2024-11-05T21:54:26.189Z"
   },
   {
    "duration": 13,
    "start_time": "2024-11-05T21:54:26.236Z"
   },
   {
    "duration": 6,
    "start_time": "2024-11-05T21:54:26.252Z"
   },
   {
    "duration": 8,
    "start_time": "2024-11-05T21:54:26.260Z"
   },
   {
    "duration": 3,
    "start_time": "2024-11-05T21:54:26.270Z"
   },
   {
    "duration": 4,
    "start_time": "2024-11-05T21:54:26.274Z"
   },
   {
    "duration": 36,
    "start_time": "2024-11-05T21:54:26.279Z"
   },
   {
    "duration": 449,
    "start_time": "2024-11-05T21:54:26.317Z"
   },
   {
    "duration": 12,
    "start_time": "2024-11-05T21:54:26.770Z"
   },
   {
    "duration": 31,
    "start_time": "2024-11-05T21:54:26.783Z"
   },
   {
    "duration": 16,
    "start_time": "2024-11-05T21:54:26.815Z"
   },
   {
    "duration": 7,
    "start_time": "2024-11-05T21:54:26.833Z"
   },
   {
    "duration": 11,
    "start_time": "2024-11-05T21:54:26.842Z"
   },
   {
    "duration": 7,
    "start_time": "2024-11-05T21:54:26.855Z"
   },
   {
    "duration": 5,
    "start_time": "2024-11-05T21:54:26.864Z"
   },
   {
    "duration": 46,
    "start_time": "2024-11-05T21:54:26.871Z"
   },
   {
    "duration": 4,
    "start_time": "2024-11-05T21:54:26.919Z"
   },
   {
    "duration": 5,
    "start_time": "2024-11-05T21:54:26.925Z"
   },
   {
    "duration": 129,
    "start_time": "2024-11-05T21:54:26.932Z"
   },
   {
    "duration": 5,
    "start_time": "2024-11-05T21:54:27.062Z"
   },
   {
    "duration": 9,
    "start_time": "2024-11-05T21:54:27.069Z"
   },
   {
    "duration": 8,
    "start_time": "2024-11-05T21:54:27.079Z"
   },
   {
    "duration": 10,
    "start_time": "2024-11-05T21:54:27.110Z"
   },
   {
    "duration": 14,
    "start_time": "2024-11-05T21:54:27.122Z"
   },
   {
    "duration": 10,
    "start_time": "2024-11-05T21:54:27.138Z"
   },
   {
    "duration": 18,
    "start_time": "2024-11-05T21:54:27.150Z"
   },
   {
    "duration": 50,
    "start_time": "2024-11-05T21:54:27.172Z"
   },
   {
    "duration": 14,
    "start_time": "2024-11-05T21:54:27.224Z"
   },
   {
    "duration": 8,
    "start_time": "2024-11-05T23:36:52.961Z"
   },
   {
    "duration": 11,
    "start_time": "2024-11-05T23:37:00.394Z"
   },
   {
    "duration": 20,
    "start_time": "2024-11-05T23:40:13.882Z"
   },
   {
    "duration": 7,
    "start_time": "2024-11-05T23:41:22.306Z"
   },
   {
    "duration": 4,
    "start_time": "2024-11-05T23:41:50.961Z"
   },
   {
    "duration": 15,
    "start_time": "2024-11-05T23:41:54.613Z"
   },
   {
    "duration": 11,
    "start_time": "2024-11-05T23:49:52.472Z"
   },
   {
    "duration": 16,
    "start_time": "2024-11-05T23:50:01.908Z"
   },
   {
    "duration": 7,
    "start_time": "2024-11-05T23:50:49.585Z"
   },
   {
    "duration": 8,
    "start_time": "2024-11-05T23:51:15.048Z"
   },
   {
    "duration": 17,
    "start_time": "2024-11-05T23:51:57.738Z"
   },
   {
    "duration": 279,
    "start_time": "2024-11-05T23:52:45.367Z"
   },
   {
    "duration": 219,
    "start_time": "2024-11-05T23:55:42.832Z"
   },
   {
    "duration": 44,
    "start_time": "2024-11-05T23:55:56.943Z"
   },
   {
    "duration": 26,
    "start_time": "2024-11-05T23:56:02.642Z"
   },
   {
    "duration": 5,
    "start_time": "2024-11-05T23:56:08.002Z"
   },
   {
    "duration": 3200,
    "start_time": "2024-11-05T23:59:15.461Z"
   },
   {
    "duration": 11499,
    "start_time": "2024-11-06T00:00:01.801Z"
   },
   {
    "duration": 11679,
    "start_time": "2024-11-06T00:00:52.954Z"
   },
   {
    "duration": 12198,
    "start_time": "2024-11-06T00:02:40.914Z"
   },
   {
    "duration": 10,
    "start_time": "2024-11-06T00:04:18.453Z"
   },
   {
    "duration": 11,
    "start_time": "2024-11-06T00:05:11.480Z"
   },
   {
    "duration": 6,
    "start_time": "2024-11-06T00:05:40.719Z"
   },
   {
    "duration": 5,
    "start_time": "2024-11-06T00:06:05.854Z"
   },
   {
    "duration": 11476,
    "start_time": "2024-11-06T00:11:00.536Z"
   },
   {
    "duration": 6,
    "start_time": "2024-11-06T00:16:01.125Z"
   },
   {
    "duration": 854,
    "start_time": "2024-11-06T00:18:51.924Z"
   },
   {
    "duration": 133,
    "start_time": "2024-11-06T00:29:20.194Z"
   },
   {
    "duration": 131,
    "start_time": "2024-11-06T00:29:37.537Z"
   },
   {
    "duration": 48,
    "start_time": "2024-11-06T00:37:07.481Z"
   },
   {
    "duration": 29,
    "start_time": "2024-11-06T00:37:34.264Z"
   },
   {
    "duration": 5,
    "start_time": "2024-11-06T00:37:38.374Z"
   },
   {
    "duration": 16,
    "start_time": "2024-11-06T00:42:47.113Z"
   },
   {
    "duration": 34,
    "start_time": "2024-11-06T00:45:27.769Z"
   },
   {
    "duration": 23,
    "start_time": "2024-11-06T00:46:43.335Z"
   },
   {
    "duration": 14,
    "start_time": "2024-11-06T00:46:49.721Z"
   },
   {
    "duration": 9,
    "start_time": "2024-11-06T00:46:55.301Z"
   },
   {
    "duration": 2550,
    "start_time": "2024-11-06T11:56:37.961Z"
   },
   {
    "duration": 70,
    "start_time": "2024-11-06T11:56:40.513Z"
   },
   {
    "duration": 14,
    "start_time": "2024-11-06T11:56:40.585Z"
   },
   {
    "duration": 6,
    "start_time": "2024-11-06T11:56:40.601Z"
   },
   {
    "duration": 8,
    "start_time": "2024-11-06T11:56:40.609Z"
   },
   {
    "duration": 3,
    "start_time": "2024-11-06T11:56:40.619Z"
   },
   {
    "duration": 4,
    "start_time": "2024-11-06T11:56:40.623Z"
   },
   {
    "duration": 8,
    "start_time": "2024-11-06T11:56:40.629Z"
   },
   {
    "duration": 477,
    "start_time": "2024-11-06T11:56:40.638Z"
   },
   {
    "duration": 13,
    "start_time": "2024-11-06T11:56:41.119Z"
   },
   {
    "duration": 19,
    "start_time": "2024-11-06T11:56:41.134Z"
   },
   {
    "duration": 17,
    "start_time": "2024-11-06T11:56:41.154Z"
   },
   {
    "duration": 8,
    "start_time": "2024-11-06T11:56:41.172Z"
   },
   {
    "duration": 9,
    "start_time": "2024-11-06T11:56:41.209Z"
   },
   {
    "duration": 9,
    "start_time": "2024-11-06T11:56:41.219Z"
   },
   {
    "duration": 4,
    "start_time": "2024-11-06T11:56:41.229Z"
   },
   {
    "duration": 10,
    "start_time": "2024-11-06T11:56:41.235Z"
   },
   {
    "duration": 4,
    "start_time": "2024-11-06T11:56:41.246Z"
   },
   {
    "duration": 4,
    "start_time": "2024-11-06T11:56:41.252Z"
   },
   {
    "duration": 9,
    "start_time": "2024-11-06T11:56:41.257Z"
   },
   {
    "duration": 147,
    "start_time": "2024-11-06T11:56:41.268Z"
   },
   {
    "duration": 5,
    "start_time": "2024-11-06T11:56:41.416Z"
   },
   {
    "duration": 9,
    "start_time": "2024-11-06T11:56:41.422Z"
   },
   {
    "duration": 7,
    "start_time": "2024-11-06T11:56:41.433Z"
   },
   {
    "duration": 8,
    "start_time": "2024-11-06T11:56:41.442Z"
   },
   {
    "duration": 12,
    "start_time": "2024-11-06T11:56:41.452Z"
   },
   {
    "duration": 46,
    "start_time": "2024-11-06T11:56:41.465Z"
   },
   {
    "duration": 17,
    "start_time": "2024-11-06T11:56:41.514Z"
   },
   {
    "duration": 14,
    "start_time": "2024-11-06T11:56:41.533Z"
   },
   {
    "duration": 13,
    "start_time": "2024-11-06T11:56:41.549Z"
   },
   {
    "duration": 14,
    "start_time": "2024-11-06T11:56:41.564Z"
   },
   {
    "duration": 30,
    "start_time": "2024-11-06T11:56:41.580Z"
   },
   {
    "duration": 31,
    "start_time": "2024-11-06T11:56:41.612Z"
   },
   {
    "duration": 4,
    "start_time": "2024-11-06T11:56:41.645Z"
   },
   {
    "duration": 5,
    "start_time": "2024-11-06T11:56:41.651Z"
   },
   {
    "duration": 11552,
    "start_time": "2024-11-06T11:56:41.657Z"
   },
   {
    "duration": 10,
    "start_time": "2024-11-06T11:56:53.211Z"
   },
   {
    "duration": 141,
    "start_time": "2024-11-06T11:56:53.223Z"
   },
   {
    "duration": 138,
    "start_time": "2024-11-06T11:56:53.367Z"
   },
   {
    "duration": 10,
    "start_time": "2024-11-06T12:05:40.133Z"
   },
   {
    "duration": 5,
    "start_time": "2024-11-06T12:05:58.993Z"
   },
   {
    "duration": 94,
    "start_time": "2024-11-06T12:12:46.753Z"
   },
   {
    "duration": 1258,
    "start_time": "2024-11-06T12:14:04.381Z"
   },
   {
    "duration": 145,
    "start_time": "2024-11-06T12:14:38.128Z"
   },
   {
    "duration": 10523,
    "start_time": "2024-11-06T12:14:51.733Z"
   },
   {
    "duration": 310,
    "start_time": "2024-11-06T12:16:02.990Z"
   },
   {
    "duration": 131,
    "start_time": "2024-11-06T12:19:14.722Z"
   },
   {
    "duration": 12816,
    "start_time": "2024-11-06T12:26:26.896Z"
   },
   {
    "duration": 13088,
    "start_time": "2024-11-06T12:27:22.010Z"
   },
   {
    "duration": 112,
    "start_time": "2024-11-06T12:32:58.920Z"
   },
   {
    "duration": 15,
    "start_time": "2024-11-06T12:42:43.835Z"
   },
   {
    "duration": 16,
    "start_time": "2024-11-06T12:43:19.888Z"
   },
   {
    "duration": 16,
    "start_time": "2024-11-06T12:46:00.737Z"
   },
   {
    "duration": 12652,
    "start_time": "2024-11-06T12:46:03.619Z"
   },
   {
    "duration": 12595,
    "start_time": "2024-11-06T12:47:21.209Z"
   },
   {
    "duration": 12533,
    "start_time": "2024-11-06T12:47:48.646Z"
   },
   {
    "duration": 133,
    "start_time": "2024-11-06T12:50:03.225Z"
   },
   {
    "duration": 5471,
    "start_time": "2024-11-06T12:51:02.569Z"
   },
   {
    "duration": 164,
    "start_time": "2024-11-06T12:52:06.464Z"
   },
   {
    "duration": 15,
    "start_time": "2024-11-06T12:58:02.716Z"
   },
   {
    "duration": 17,
    "start_time": "2024-11-06T12:58:47.127Z"
   },
   {
    "duration": 178,
    "start_time": "2024-11-06T13:08:25.766Z"
   },
   {
    "duration": 5946,
    "start_time": "2024-11-06T13:09:07.658Z"
   },
   {
    "duration": 130,
    "start_time": "2024-11-06T13:10:00.651Z"
   },
   {
    "duration": 134,
    "start_time": "2024-11-06T13:11:26.150Z"
   },
   {
    "duration": 19,
    "start_time": "2024-11-06T13:15:27.849Z"
   },
   {
    "duration": 16,
    "start_time": "2024-11-06T13:16:13.514Z"
   },
   {
    "duration": 15,
    "start_time": "2024-11-06T13:18:28.276Z"
   },
   {
    "duration": 367,
    "start_time": "2024-11-06T13:18:43.612Z"
   },
   {
    "duration": 14,
    "start_time": "2024-11-06T13:19:25.210Z"
   },
   {
    "duration": 18,
    "start_time": "2024-11-06T13:19:37.703Z"
   },
   {
    "duration": 169,
    "start_time": "2024-11-06T13:21:30.307Z"
   },
   {
    "duration": 129,
    "start_time": "2024-11-06T13:22:33.755Z"
   },
   {
    "duration": 16,
    "start_time": "2024-11-06T13:22:49.422Z"
   },
   {
    "duration": 133,
    "start_time": "2024-11-06T13:23:06.192Z"
   },
   {
    "duration": 6,
    "start_time": "2024-11-06T13:33:08.596Z"
   },
   {
    "duration": 14,
    "start_time": "2024-11-06T13:35:40.199Z"
   },
   {
    "duration": 10,
    "start_time": "2024-11-06T13:35:48.543Z"
   },
   {
    "duration": 8,
    "start_time": "2024-11-06T13:35:52.953Z"
   },
   {
    "duration": 16,
    "start_time": "2024-11-06T13:38:22.552Z"
   },
   {
    "duration": 16,
    "start_time": "2024-11-06T13:39:08.287Z"
   },
   {
    "duration": 13824,
    "start_time": "2024-11-06T13:40:35.648Z"
   },
   {
    "duration": 14234,
    "start_time": "2024-11-06T13:42:04.619Z"
   },
   {
    "duration": 14234,
    "start_time": "2024-11-06T13:45:03.912Z"
   },
   {
    "duration": 14488,
    "start_time": "2024-11-06T13:46:53.341Z"
   },
   {
    "duration": 14585,
    "start_time": "2024-11-06T13:47:19.582Z"
   },
   {
    "duration": 14191,
    "start_time": "2024-11-06T13:48:18.640Z"
   },
   {
    "duration": 14401,
    "start_time": "2024-11-06T13:49:33.045Z"
   },
   {
    "duration": 128,
    "start_time": "2024-11-06T13:53:14.061Z"
   },
   {
    "duration": 158,
    "start_time": "2024-11-06T14:09:34.346Z"
   },
   {
    "duration": 158,
    "start_time": "2024-11-06T14:11:33.277Z"
   },
   {
    "duration": 163,
    "start_time": "2024-11-06T14:13:31.060Z"
   },
   {
    "duration": 6,
    "start_time": "2024-11-06T14:15:08.363Z"
   },
   {
    "duration": 10,
    "start_time": "2024-11-06T17:23:39.766Z"
   },
   {
    "duration": 26,
    "start_time": "2024-11-06T17:30:39.098Z"
   },
   {
    "duration": 15,
    "start_time": "2024-11-06T17:34:38.939Z"
   },
   {
    "duration": 491,
    "start_time": "2024-11-06T17:48:40.951Z"
   },
   {
    "duration": 485,
    "start_time": "2024-11-06T17:51:35.299Z"
   },
   {
    "duration": 15,
    "start_time": "2024-11-06T18:02:31.789Z"
   },
   {
    "duration": 673,
    "start_time": "2024-11-06T18:02:36.861Z"
   },
   {
    "duration": 24,
    "start_time": "2024-11-06T18:03:54.465Z"
   },
   {
    "duration": 40,
    "start_time": "2024-11-06T18:04:00.302Z"
   },
   {
    "duration": 24,
    "start_time": "2024-11-06T18:05:31.223Z"
   },
   {
    "duration": 25,
    "start_time": "2024-11-06T18:06:06.368Z"
   },
   {
    "duration": 14,
    "start_time": "2024-11-06T18:06:12.077Z"
   },
   {
    "duration": 15,
    "start_time": "2024-11-06T18:07:28.714Z"
   },
   {
    "duration": 14,
    "start_time": "2024-11-06T18:07:33.842Z"
   },
   {
    "duration": 13,
    "start_time": "2024-11-06T18:07:40.327Z"
   },
   {
    "duration": 12,
    "start_time": "2024-11-06T18:07:46.918Z"
   },
   {
    "duration": 16,
    "start_time": "2024-11-06T18:08:09.691Z"
   },
   {
    "duration": 16,
    "start_time": "2024-11-06T18:08:14.710Z"
   },
   {
    "duration": 12,
    "start_time": "2024-11-06T18:08:35.861Z"
   },
   {
    "duration": 12,
    "start_time": "2024-11-06T18:10:07.828Z"
   },
   {
    "duration": 3,
    "start_time": "2024-11-06T18:12:41.320Z"
   },
   {
    "duration": 14,
    "start_time": "2024-11-06T18:13:39.936Z"
   },
   {
    "duration": 4,
    "start_time": "2024-11-06T18:13:45.699Z"
   },
   {
    "duration": 15,
    "start_time": "2024-11-06T19:52:21.732Z"
   },
   {
    "duration": 16,
    "start_time": "2024-11-06T19:52:27.202Z"
   },
   {
    "duration": 15,
    "start_time": "2024-11-06T19:52:35.995Z"
   },
   {
    "duration": 17,
    "start_time": "2024-11-06T19:52:45.889Z"
   },
   {
    "duration": 4,
    "start_time": "2024-11-06T19:52:55.658Z"
   },
   {
    "duration": 3,
    "start_time": "2024-11-06T19:53:14.056Z"
   },
   {
    "duration": 5,
    "start_time": "2024-11-06T19:53:50.867Z"
   },
   {
    "duration": 5,
    "start_time": "2024-11-06T19:56:26.313Z"
   },
   {
    "duration": 3,
    "start_time": "2024-11-06T20:01:49.634Z"
   },
   {
    "duration": 4,
    "start_time": "2024-11-06T20:01:59.473Z"
   },
   {
    "duration": 7,
    "start_time": "2024-11-06T20:02:59.526Z"
   },
   {
    "duration": 4,
    "start_time": "2024-11-06T20:06:41.355Z"
   },
   {
    "duration": 5,
    "start_time": "2024-11-06T20:06:51.040Z"
   },
   {
    "duration": 5,
    "start_time": "2024-11-06T20:07:05.141Z"
   },
   {
    "duration": 3,
    "start_time": "2024-11-06T20:13:54.815Z"
   },
   {
    "duration": 11,
    "start_time": "2024-11-06T20:15:33.169Z"
   },
   {
    "duration": 7,
    "start_time": "2024-11-06T20:48:41.534Z"
   },
   {
    "duration": 3,
    "start_time": "2024-11-06T20:48:50.012Z"
   },
   {
    "duration": 12,
    "start_time": "2024-11-06T20:49:39.581Z"
   },
   {
    "duration": 15,
    "start_time": "2024-11-06T20:49:44.221Z"
   },
   {
    "duration": 4,
    "start_time": "2024-11-06T20:49:46.521Z"
   },
   {
    "duration": 4,
    "start_time": "2024-11-06T20:50:52.411Z"
   },
   {
    "duration": 13,
    "start_time": "2024-11-06T20:52:13.956Z"
   },
   {
    "duration": 5,
    "start_time": "2024-11-06T20:52:14.791Z"
   },
   {
    "duration": 5,
    "start_time": "2024-11-06T20:52:42.278Z"
   },
   {
    "duration": 34,
    "start_time": "2024-11-06T21:02:22.336Z"
   },
   {
    "duration": 17,
    "start_time": "2024-11-06T21:02:39.426Z"
   },
   {
    "duration": 14079,
    "start_time": "2024-11-06T21:05:23.231Z"
   },
   {
    "duration": 2537,
    "start_time": "2024-11-07T11:54:10.142Z"
   },
   {
    "duration": 68,
    "start_time": "2024-11-07T11:54:12.681Z"
   },
   {
    "duration": 15,
    "start_time": "2024-11-07T11:54:12.751Z"
   },
   {
    "duration": 7,
    "start_time": "2024-11-07T11:54:12.768Z"
   },
   {
    "duration": 9,
    "start_time": "2024-11-07T11:54:12.860Z"
   },
   {
    "duration": 4,
    "start_time": "2024-11-07T11:54:13.648Z"
   },
   {
    "duration": 3,
    "start_time": "2024-11-07T11:54:14.156Z"
   },
   {
    "duration": 9,
    "start_time": "2024-11-07T11:54:14.674Z"
   },
   {
    "duration": 480,
    "start_time": "2024-11-07T11:54:15.219Z"
   },
   {
    "duration": 16,
    "start_time": "2024-11-07T11:54:15.701Z"
   },
   {
    "duration": 18,
    "start_time": "2024-11-07T11:54:16.142Z"
   },
   {
    "duration": 17,
    "start_time": "2024-11-07T11:54:16.648Z"
   },
   {
    "duration": 8,
    "start_time": "2024-11-07T11:54:17.098Z"
   },
   {
    "duration": 11,
    "start_time": "2024-11-07T11:54:17.574Z"
   },
   {
    "duration": 8,
    "start_time": "2024-11-07T11:54:18.855Z"
   },
   {
    "duration": 4,
    "start_time": "2024-11-07T11:54:19.339Z"
   },
   {
    "duration": 10,
    "start_time": "2024-11-07T11:54:19.697Z"
   },
   {
    "duration": 5,
    "start_time": "2024-11-07T11:54:20.148Z"
   },
   {
    "duration": 4,
    "start_time": "2024-11-07T11:54:20.594Z"
   },
   {
    "duration": 10,
    "start_time": "2024-11-07T11:54:21.923Z"
   },
   {
    "duration": 12,
    "start_time": "2024-11-07T11:54:22.853Z"
   },
   {
    "duration": 5,
    "start_time": "2024-11-07T11:54:24.365Z"
   },
   {
    "duration": 9,
    "start_time": "2024-11-07T11:54:24.778Z"
   },
   {
    "duration": 138,
    "start_time": "2024-11-07T11:54:25.171Z"
   },
   {
    "duration": 9,
    "start_time": "2024-11-07T11:54:26.398Z"
   },
   {
    "duration": 12188,
    "start_time": "2024-11-07T11:54:26.823Z"
   },
   {
    "duration": 10,
    "start_time": "2024-11-07T11:54:39.014Z"
   },
   {
    "duration": 125,
    "start_time": "2024-11-07T11:54:39.025Z"
   },
   {
    "duration": 16,
    "start_time": "2024-11-07T11:54:39.154Z"
   },
   {
    "duration": 12356,
    "start_time": "2024-11-07T11:54:39.172Z"
   },
   {
    "duration": 16,
    "start_time": "2024-11-07T11:54:51.530Z"
   },
   {
    "duration": 435,
    "start_time": "2024-11-07T11:54:51.548Z"
   },
   {
    "duration": 135,
    "start_time": "2024-11-07T11:54:51.985Z"
   },
   {
    "duration": 9,
    "start_time": "2024-11-07T11:54:52.122Z"
   },
   {
    "duration": 6,
    "start_time": "2024-11-07T11:54:52.134Z"
   },
   {
    "duration": 17,
    "start_time": "2024-11-07T11:54:52.142Z"
   },
   {
    "duration": 13622,
    "start_time": "2024-11-07T11:54:52.160Z"
   },
   {
    "duration": 17,
    "start_time": "2024-11-07T11:55:24.224Z"
   },
   {
    "duration": 13987,
    "start_time": "2024-11-07T11:55:25.029Z"
   },
   {
    "duration": 169,
    "start_time": "2024-11-07T11:55:39.019Z"
   },
   {
    "duration": 28,
    "start_time": "2024-11-07T11:55:39.190Z"
   },
   {
    "duration": 12,
    "start_time": "2024-11-07T11:55:39.220Z"
   },
   {
    "duration": 10,
    "start_time": "2024-11-07T11:55:39.233Z"
   },
   {
    "duration": 15,
    "start_time": "2024-11-07T11:55:39.245Z"
   },
   {
    "duration": 7,
    "start_time": "2024-11-07T11:55:39.261Z"
   },
   {
    "duration": 12,
    "start_time": "2024-11-07T12:03:36.248Z"
   },
   {
    "duration": 5,
    "start_time": "2024-11-07T12:03:37.056Z"
   },
   {
    "duration": 5,
    "start_time": "2024-11-07T12:03:48.843Z"
   },
   {
    "duration": 4,
    "start_time": "2024-11-07T12:20:19.781Z"
   },
   {
    "duration": 5,
    "start_time": "2024-11-07T12:20:40.819Z"
   },
   {
    "duration": 5,
    "start_time": "2024-11-07T12:21:05.457Z"
   },
   {
    "duration": 4,
    "start_time": "2024-11-07T12:21:12.995Z"
   },
   {
    "duration": 4,
    "start_time": "2024-11-07T12:21:18.873Z"
   },
   {
    "duration": 7,
    "start_time": "2024-11-07T12:33:13.992Z"
   },
   {
    "duration": 4,
    "start_time": "2024-11-07T12:53:18.196Z"
   },
   {
    "duration": 5,
    "start_time": "2024-11-07T13:16:11.551Z"
   },
   {
    "duration": 12,
    "start_time": "2024-11-07T13:17:24.486Z"
   },
   {
    "duration": 628,
    "start_time": "2024-11-07T13:17:50.704Z"
   },
   {
    "duration": 9,
    "start_time": "2024-11-07T13:18:14.684Z"
   },
   {
    "duration": 4,
    "start_time": "2024-11-07T13:18:37.828Z"
   },
   {
    "duration": 5,
    "start_time": "2024-11-07T13:18:46.742Z"
   },
   {
    "duration": 6,
    "start_time": "2024-11-07T13:48:22.815Z"
   },
   {
    "duration": 5,
    "start_time": "2024-11-07T14:32:07.903Z"
   },
   {
    "duration": 835,
    "start_time": "2024-11-08T02:40:59.232Z"
   },
   {
    "duration": 68,
    "start_time": "2024-11-08T02:41:00.069Z"
   },
   {
    "duration": 15,
    "start_time": "2024-11-08T02:41:00.139Z"
   },
   {
    "duration": 7,
    "start_time": "2024-11-08T02:41:00.157Z"
   },
   {
    "duration": 9,
    "start_time": "2024-11-08T02:41:00.166Z"
   },
   {
    "duration": 4,
    "start_time": "2024-11-08T02:41:00.177Z"
   },
   {
    "duration": 3,
    "start_time": "2024-11-08T02:41:00.183Z"
   },
   {
    "duration": 8,
    "start_time": "2024-11-08T02:41:00.188Z"
   },
   {
    "duration": 524,
    "start_time": "2024-11-08T02:41:00.198Z"
   },
   {
    "duration": 17,
    "start_time": "2024-11-08T02:41:00.726Z"
   },
   {
    "duration": 21,
    "start_time": "2024-11-08T02:41:00.746Z"
   },
   {
    "duration": 16,
    "start_time": "2024-11-08T02:41:00.769Z"
   },
   {
    "duration": 9,
    "start_time": "2024-11-08T02:41:00.787Z"
   },
   {
    "duration": 9,
    "start_time": "2024-11-08T02:41:00.799Z"
   },
   {
    "duration": 41,
    "start_time": "2024-11-08T02:41:00.810Z"
   },
   {
    "duration": 6,
    "start_time": "2024-11-08T02:41:00.852Z"
   },
   {
    "duration": 10,
    "start_time": "2024-11-08T02:41:00.860Z"
   },
   {
    "duration": 4,
    "start_time": "2024-11-08T02:41:00.872Z"
   },
   {
    "duration": 5,
    "start_time": "2024-11-08T02:41:00.877Z"
   },
   {
    "duration": 9,
    "start_time": "2024-11-08T02:41:00.884Z"
   },
   {
    "duration": 49,
    "start_time": "2024-11-08T02:41:00.895Z"
   },
   {
    "duration": 5,
    "start_time": "2024-11-08T02:41:00.946Z"
   },
   {
    "duration": 10,
    "start_time": "2024-11-08T02:41:00.953Z"
   },
   {
    "duration": 150,
    "start_time": "2024-11-08T02:41:00.965Z"
   },
   {
    "duration": 5,
    "start_time": "2024-11-08T02:41:01.116Z"
   },
   {
    "duration": 21,
    "start_time": "2024-11-08T02:41:01.123Z"
   },
   {
    "duration": 12330,
    "start_time": "2024-11-08T02:41:01.146Z"
   },
   {
    "duration": 6,
    "start_time": "2024-11-08T02:41:13.480Z"
   },
   {
    "duration": 9,
    "start_time": "2024-11-08T02:41:13.487Z"
   },
   {
    "duration": 129,
    "start_time": "2024-11-08T02:41:13.498Z"
   },
   {
    "duration": 4,
    "start_time": "2024-11-08T02:41:13.629Z"
   },
   {
    "duration": 16,
    "start_time": "2024-11-08T02:41:13.642Z"
   },
   {
    "duration": 12591,
    "start_time": "2024-11-08T02:41:13.660Z"
   },
   {
    "duration": 15,
    "start_time": "2024-11-08T02:41:26.254Z"
   },
   {
    "duration": 180,
    "start_time": "2024-11-08T02:41:26.271Z"
   },
   {
    "duration": 6,
    "start_time": "2024-11-08T02:41:26.453Z"
   },
   {
    "duration": 10,
    "start_time": "2024-11-08T02:41:26.460Z"
   },
   {
    "duration": 5,
    "start_time": "2024-11-08T02:41:26.472Z"
   },
   {
    "duration": 18,
    "start_time": "2024-11-08T02:41:26.479Z"
   },
   {
    "duration": 14176,
    "start_time": "2024-11-08T02:41:26.498Z"
   },
   {
    "duration": 18,
    "start_time": "2024-11-08T02:41:40.676Z"
   },
   {
    "duration": 14264,
    "start_time": "2024-11-08T02:41:40.695Z"
   },
   {
    "duration": 5,
    "start_time": "2024-11-08T02:41:54.961Z"
   },
   {
    "duration": 175,
    "start_time": "2024-11-08T02:41:54.968Z"
   },
   {
    "duration": 15,
    "start_time": "2024-11-08T02:41:55.144Z"
   },
   {
    "duration": 14,
    "start_time": "2024-11-08T02:41:55.161Z"
   },
   {
    "duration": 12,
    "start_time": "2024-11-08T02:41:55.177Z"
   },
   {
    "duration": 14,
    "start_time": "2024-11-08T02:41:55.191Z"
   },
   {
    "duration": 38,
    "start_time": "2024-11-08T02:41:55.207Z"
   },
   {
    "duration": 3,
    "start_time": "2024-11-08T03:33:40.420Z"
   },
   {
    "duration": 45,
    "start_time": "2024-11-08T03:33:40.426Z"
   },
   {
    "duration": 16,
    "start_time": "2024-11-08T03:33:40.473Z"
   },
   {
    "duration": 7,
    "start_time": "2024-11-08T03:33:40.492Z"
   },
   {
    "duration": 14,
    "start_time": "2024-11-08T03:33:40.502Z"
   },
   {
    "duration": 26,
    "start_time": "2024-11-08T03:33:40.518Z"
   },
   {
    "duration": 4,
    "start_time": "2024-11-08T03:33:40.547Z"
   },
   {
    "duration": 9,
    "start_time": "2024-11-08T03:33:40.553Z"
   },
   {
    "duration": 927,
    "start_time": "2024-11-08T03:33:40.564Z"
   },
   {
    "duration": 12,
    "start_time": "2024-11-08T03:33:41.493Z"
   },
   {
    "duration": 16,
    "start_time": "2024-11-08T03:33:41.507Z"
   },
   {
    "duration": 38,
    "start_time": "2024-11-08T03:33:41.525Z"
   },
   {
    "duration": 7,
    "start_time": "2024-11-08T03:33:41.567Z"
   },
   {
    "duration": 10,
    "start_time": "2024-11-08T03:33:41.576Z"
   },
   {
    "duration": 8,
    "start_time": "2024-11-08T03:33:41.587Z"
   },
   {
    "duration": 4,
    "start_time": "2024-11-08T03:33:41.597Z"
   },
   {
    "duration": 40,
    "start_time": "2024-11-08T03:33:41.603Z"
   },
   {
    "duration": 5,
    "start_time": "2024-11-08T03:33:41.645Z"
   },
   {
    "duration": 4,
    "start_time": "2024-11-08T03:33:41.651Z"
   },
   {
    "duration": 9,
    "start_time": "2024-11-08T03:33:41.657Z"
   },
   {
    "duration": 11,
    "start_time": "2024-11-08T03:33:41.668Z"
   },
   {
    "duration": 4,
    "start_time": "2024-11-08T03:33:41.681Z"
   },
   {
    "duration": 8,
    "start_time": "2024-11-08T03:33:41.687Z"
   },
   {
    "duration": 151,
    "start_time": "2024-11-08T03:33:41.697Z"
   },
   {
    "duration": 5,
    "start_time": "2024-11-08T03:33:41.849Z"
   },
   {
    "duration": 8,
    "start_time": "2024-11-08T03:33:41.856Z"
   },
   {
    "duration": 12358,
    "start_time": "2024-11-08T03:33:41.866Z"
   },
   {
    "duration": 16,
    "start_time": "2024-11-08T03:33:54.226Z"
   },
   {
    "duration": 10,
    "start_time": "2024-11-08T03:33:54.244Z"
   },
   {
    "duration": 120,
    "start_time": "2024-11-08T03:33:54.256Z"
   },
   {
    "duration": 5,
    "start_time": "2024-11-08T03:33:54.378Z"
   },
   {
    "duration": 15,
    "start_time": "2024-11-08T03:33:54.385Z"
   },
   {
    "duration": 13701,
    "start_time": "2024-11-08T03:33:54.402Z"
   },
   {
    "duration": 15,
    "start_time": "2024-11-08T03:34:08.105Z"
   },
   {
    "duration": 412,
    "start_time": "2024-11-08T03:34:08.122Z"
   },
   {
    "duration": 7,
    "start_time": "2024-11-08T03:34:08.542Z"
   },
   {
    "duration": 9,
    "start_time": "2024-11-08T03:34:08.553Z"
   },
   {
    "duration": 6,
    "start_time": "2024-11-08T03:34:08.564Z"
   },
   {
    "duration": 18,
    "start_time": "2024-11-08T03:34:08.572Z"
   },
   {
    "duration": 13936,
    "start_time": "2024-11-08T03:34:08.591Z"
   },
   {
    "duration": 24,
    "start_time": "2024-11-08T03:34:22.529Z"
   },
   {
    "duration": 14316,
    "start_time": "2024-11-08T03:34:22.555Z"
   },
   {
    "duration": 5,
    "start_time": "2024-11-08T03:34:36.873Z"
   },
   {
    "duration": 174,
    "start_time": "2024-11-08T03:34:36.880Z"
   },
   {
    "duration": 15,
    "start_time": "2024-11-08T03:34:37.055Z"
   },
   {
    "duration": 13,
    "start_time": "2024-11-08T03:34:37.072Z"
   },
   {
    "duration": 10,
    "start_time": "2024-11-08T03:34:37.087Z"
   },
   {
    "duration": 12,
    "start_time": "2024-11-08T03:34:37.099Z"
   },
   {
    "duration": 33,
    "start_time": "2024-11-08T03:34:37.112Z"
   },
   {
    "duration": 9,
    "start_time": "2024-11-08T03:41:23.718Z"
   },
   {
    "duration": 128,
    "start_time": "2024-11-08T03:42:04.069Z"
   },
   {
    "duration": 5,
    "start_time": "2024-11-08T03:44:17.309Z"
   },
   {
    "duration": 5,
    "start_time": "2024-11-08T03:45:55.518Z"
   },
   {
    "duration": 2582,
    "start_time": "2024-11-08T12:38:28.831Z"
   },
   {
    "duration": 81,
    "start_time": "2024-11-08T12:38:31.415Z"
   },
   {
    "duration": 14,
    "start_time": "2024-11-08T12:38:34.825Z"
   },
   {
    "duration": 8,
    "start_time": "2024-11-08T12:38:35.417Z"
   },
   {
    "duration": 9,
    "start_time": "2024-11-08T12:38:36.529Z"
   },
   {
    "duration": 4,
    "start_time": "2024-11-08T12:38:38.248Z"
   },
   {
    "duration": 4,
    "start_time": "2024-11-08T12:38:38.837Z"
   },
   {
    "duration": 9,
    "start_time": "2024-11-08T12:38:39.528Z"
   },
   {
    "duration": 399,
    "start_time": "2024-11-08T12:38:42.738Z"
   },
   {
    "duration": 12,
    "start_time": "2024-11-08T12:38:43.590Z"
   },
   {
    "duration": 17,
    "start_time": "2024-11-08T12:38:44.651Z"
   },
   {
    "duration": 16,
    "start_time": "2024-11-08T12:38:48.108Z"
   },
   {
    "duration": 8,
    "start_time": "2024-11-08T12:38:49.408Z"
   },
   {
    "duration": 10,
    "start_time": "2024-11-08T12:38:52.595Z"
   },
   {
    "duration": 8,
    "start_time": "2024-11-08T12:38:58.497Z"
   },
   {
    "duration": 4,
    "start_time": "2024-11-08T12:38:59.020Z"
   },
   {
    "duration": 10,
    "start_time": "2024-11-08T12:38:59.489Z"
   },
   {
    "duration": 5,
    "start_time": "2024-11-08T12:39:00.928Z"
   },
   {
    "duration": 5,
    "start_time": "2024-11-08T12:39:02.508Z"
   },
   {
    "duration": 9,
    "start_time": "2024-11-08T12:39:10.922Z"
   },
   {
    "duration": 6,
    "start_time": "2024-11-08T12:39:48.567Z"
   },
   {
    "duration": 4,
    "start_time": "2024-11-08T12:40:39.761Z"
   },
   {
    "duration": 260,
    "start_time": "2024-11-08T12:42:34.233Z"
   },
   {
    "duration": 9,
    "start_time": "2024-11-08T12:42:39.598Z"
   },
   {
    "duration": 127,
    "start_time": "2024-11-08T12:42:42.406Z"
   },
   {
    "duration": 3,
    "start_time": "2024-11-08T12:44:31.714Z"
   },
   {
    "duration": 5,
    "start_time": "2024-11-08T12:44:49.576Z"
   },
   {
    "duration": 124,
    "start_time": "2024-11-08T12:44:54.374Z"
   },
   {
    "duration": 818,
    "start_time": "2024-11-08T12:46:15.493Z"
   },
   {
    "duration": 146,
    "start_time": "2024-11-08T12:46:28.222Z"
   },
   {
    "duration": 120,
    "start_time": "2024-11-08T12:47:05.483Z"
   },
   {
    "duration": 353,
    "start_time": "2024-11-08T12:48:14.373Z"
   },
   {
    "duration": 163,
    "start_time": "2024-11-08T12:48:33.921Z"
   },
   {
    "duration": 5,
    "start_time": "2024-11-08T12:49:02.338Z"
   },
   {
    "duration": 335,
    "start_time": "2024-11-08T12:49:13.994Z"
   },
   {
    "duration": 5,
    "start_time": "2024-11-08T12:49:16.742Z"
   },
   {
    "duration": 5,
    "start_time": "2024-11-08T12:49:48.754Z"
   },
   {
    "duration": 118,
    "start_time": "2024-11-08T12:50:07.990Z"
   },
   {
    "duration": 127,
    "start_time": "2024-11-08T12:50:35.598Z"
   },
   {
    "duration": 127,
    "start_time": "2024-11-08T12:51:05.599Z"
   },
   {
    "duration": 147,
    "start_time": "2024-11-08T12:51:15.104Z"
   },
   {
    "duration": 9,
    "start_time": "2024-11-08T12:53:17.190Z"
   },
   {
    "duration": 26,
    "start_time": "2024-11-08T12:53:30.710Z"
   },
   {
    "duration": 9,
    "start_time": "2024-11-08T12:53:40.226Z"
   },
   {
    "duration": 17,
    "start_time": "2024-11-08T12:54:31.747Z"
   },
   {
    "duration": 8325,
    "start_time": "2024-11-08T12:57:02.290Z"
   },
   {
    "duration": 8040,
    "start_time": "2024-11-08T12:57:43.504Z"
   },
   {
    "duration": 8104,
    "start_time": "2024-11-08T12:58:16.401Z"
   },
   {
    "duration": 303,
    "start_time": "2024-11-08T12:58:51.169Z"
   },
   {
    "duration": 10,
    "start_time": "2024-11-08T13:05:36.898Z"
   },
   {
    "duration": 6,
    "start_time": "2024-11-08T13:06:34.403Z"
   },
   {
    "duration": 4,
    "start_time": "2024-11-08T13:06:44.942Z"
   },
   {
    "duration": 212,
    "start_time": "2024-11-08T13:06:54.817Z"
   },
   {
    "duration": 14292,
    "start_time": "2024-11-08T13:08:18.242Z"
   },
   {
    "duration": 13572,
    "start_time": "2024-11-08T13:11:23.499Z"
   },
   {
    "duration": 14175,
    "start_time": "2024-11-08T13:13:38.031Z"
   },
   {
    "duration": 16,
    "start_time": "2024-11-08T13:19:10.408Z"
   },
   {
    "duration": 10,
    "start_time": "2024-11-08T13:19:17.977Z"
   },
   {
    "duration": 113,
    "start_time": "2024-11-08T13:19:18.775Z"
   },
   {
    "duration": 14,
    "start_time": "2024-11-08T13:22:47.814Z"
   },
   {
    "duration": 115,
    "start_time": "2024-11-08T13:22:57.137Z"
   },
   {
    "duration": 130,
    "start_time": "2024-11-08T13:24:26.789Z"
   },
   {
    "duration": 4,
    "start_time": "2024-11-08T13:36:09.157Z"
   },
   {
    "duration": 15,
    "start_time": "2024-11-08T13:36:39.175Z"
   },
   {
    "duration": 16,
    "start_time": "2024-11-08T13:36:45.771Z"
   },
   {
    "duration": 1767,
    "start_time": "2024-11-08T13:36:48.577Z"
   },
   {
    "duration": 932,
    "start_time": "2024-11-08T13:37:20.192Z"
   },
   {
    "duration": 103,
    "start_time": "2024-11-08T13:37:59.112Z"
   },
   {
    "duration": 63,
    "start_time": "2024-11-08T13:40:25.429Z"
   },
   {
    "duration": 6,
    "start_time": "2024-11-08T13:43:35.845Z"
   },
   {
    "duration": 7,
    "start_time": "2024-11-08T13:44:03.022Z"
   },
   {
    "duration": 13,
    "start_time": "2024-11-08T13:44:51.067Z"
   },
   {
    "duration": 87,
    "start_time": "2024-11-08T13:45:03.697Z"
   },
   {
    "duration": 157,
    "start_time": "2024-11-08T13:56:22.441Z"
   },
   {
    "duration": 446,
    "start_time": "2024-11-08T13:56:48.230Z"
   },
   {
    "duration": 9,
    "start_time": "2024-11-08T13:57:17.003Z"
   },
   {
    "duration": 11,
    "start_time": "2024-11-08T13:57:25.575Z"
   },
   {
    "duration": 6,
    "start_time": "2024-11-08T13:58:12.998Z"
   },
   {
    "duration": 7,
    "start_time": "2024-11-08T13:58:30.277Z"
   },
   {
    "duration": 101,
    "start_time": "2024-11-08T14:00:19.524Z"
   },
   {
    "duration": 106,
    "start_time": "2024-11-08T14:01:43.835Z"
   },
   {
    "duration": 15,
    "start_time": "2024-11-08T14:05:25.671Z"
   },
   {
    "duration": 9,
    "start_time": "2024-11-08T14:05:31.974Z"
   },
   {
    "duration": 6,
    "start_time": "2024-11-08T14:05:32.597Z"
   },
   {
    "duration": 16,
    "start_time": "2024-11-08T14:05:33.479Z"
   },
   {
    "duration": 146,
    "start_time": "2024-11-08T14:06:09.064Z"
   },
   {
    "duration": 155,
    "start_time": "2024-11-08T14:07:07.428Z"
   },
   {
    "duration": 143,
    "start_time": "2024-11-08T14:07:21.013Z"
   },
   {
    "duration": 120,
    "start_time": "2024-11-08T17:06:38.545Z"
   },
   {
    "duration": 119,
    "start_time": "2024-11-08T17:10:51.798Z"
   },
   {
    "duration": 22,
    "start_time": "2024-11-08T17:13:10.244Z"
   },
   {
    "duration": 2503,
    "start_time": "2024-11-09T04:32:23.836Z"
   },
   {
    "duration": 73,
    "start_time": "2024-11-09T04:32:26.341Z"
   },
   {
    "duration": 13,
    "start_time": "2024-11-09T04:32:26.416Z"
   },
   {
    "duration": 6,
    "start_time": "2024-11-09T04:32:26.431Z"
   },
   {
    "duration": 9,
    "start_time": "2024-11-09T04:32:26.438Z"
   },
   {
    "duration": 3,
    "start_time": "2024-11-09T04:32:26.448Z"
   },
   {
    "duration": 3,
    "start_time": "2024-11-09T04:32:26.453Z"
   },
   {
    "duration": 8,
    "start_time": "2024-11-09T04:32:26.459Z"
   },
   {
    "duration": 485,
    "start_time": "2024-11-09T04:32:26.468Z"
   },
   {
    "duration": 12,
    "start_time": "2024-11-09T04:32:26.956Z"
   },
   {
    "duration": 16,
    "start_time": "2024-11-09T04:32:26.969Z"
   },
   {
    "duration": 32,
    "start_time": "2024-11-09T04:32:26.986Z"
   },
   {
    "duration": 7,
    "start_time": "2024-11-09T04:32:27.019Z"
   },
   {
    "duration": 10,
    "start_time": "2024-11-09T04:32:27.027Z"
   },
   {
    "duration": 7,
    "start_time": "2024-11-09T04:32:27.040Z"
   },
   {
    "duration": 4,
    "start_time": "2024-11-09T04:32:27.049Z"
   },
   {
    "duration": 8,
    "start_time": "2024-11-09T04:32:27.055Z"
   },
   {
    "duration": 4,
    "start_time": "2024-11-09T04:32:27.065Z"
   },
   {
    "duration": 40,
    "start_time": "2024-11-09T04:32:27.070Z"
   },
   {
    "duration": 8,
    "start_time": "2024-11-09T04:32:27.111Z"
   },
   {
    "duration": 11,
    "start_time": "2024-11-09T04:32:27.120Z"
   },
   {
    "duration": 4,
    "start_time": "2024-11-09T04:32:27.133Z"
   },
   {
    "duration": 8,
    "start_time": "2024-11-09T04:32:27.139Z"
   },
   {
    "duration": 4,
    "start_time": "2024-11-09T04:32:27.148Z"
   },
   {
    "duration": 186,
    "start_time": "2024-11-09T04:32:27.153Z"
   },
   {
    "duration": 5,
    "start_time": "2024-11-09T04:32:27.340Z"
   },
   {
    "duration": 9,
    "start_time": "2024-11-09T04:32:27.346Z"
   },
   {
    "duration": 147,
    "start_time": "2024-11-09T04:32:27.359Z"
   },
   {
    "duration": 8,
    "start_time": "2024-11-09T04:32:27.507Z"
   },
   {
    "duration": 10,
    "start_time": "2024-11-09T04:32:27.517Z"
   },
   {
    "duration": 128,
    "start_time": "2024-11-09T04:32:27.528Z"
   },
   {
    "duration": 4,
    "start_time": "2024-11-09T04:32:27.658Z"
   },
   {
    "duration": 7,
    "start_time": "2024-11-09T04:32:27.664Z"
   },
   {
    "duration": 124,
    "start_time": "2024-11-09T04:32:27.672Z"
   },
   {
    "duration": 28,
    "start_time": "2024-11-09T04:32:27.798Z"
   },
   {
    "duration": 7,
    "start_time": "2024-11-09T04:32:27.827Z"
   },
   {
    "duration": 117,
    "start_time": "2024-11-09T04:32:27.836Z"
   },
   {
    "duration": 6,
    "start_time": "2024-11-09T04:32:27.955Z"
   },
   {
    "duration": 10,
    "start_time": "2024-11-09T04:32:27.962Z"
   },
   {
    "duration": 6,
    "start_time": "2024-11-09T04:32:27.974Z"
   },
   {
    "duration": 37,
    "start_time": "2024-11-09T04:32:27.982Z"
   },
   {
    "duration": 151,
    "start_time": "2024-11-09T04:32:28.020Z"
   },
   {
    "duration": 176,
    "start_time": "2024-11-09T04:32:28.173Z"
   },
   {
    "duration": 16,
    "start_time": "2024-11-09T04:32:28.351Z"
   },
   {
    "duration": 34,
    "start_time": "2024-11-09T04:32:28.368Z"
   },
   {
    "duration": 27,
    "start_time": "2024-11-09T04:32:28.404Z"
   },
   {
    "duration": 18,
    "start_time": "2024-11-09T04:32:28.433Z"
   },
   {
    "duration": 4,
    "start_time": "2024-11-09T04:32:28.453Z"
   }
  ],
  "kernelspec": {
   "display_name": "Python 3 (ipykernel)",
   "language": "python",
   "name": "python3"
  },
  "language_info": {
   "codemirror_mode": {
    "name": "ipython",
    "version": 3
   },
   "file_extension": ".py",
   "mimetype": "text/x-python",
   "name": "python",
   "nbconvert_exporter": "python",
   "pygments_lexer": "ipython3",
   "version": "3.9.19"
  },
  "toc": {
   "base_numbering": 1,
   "nav_menu": {},
   "number_sections": true,
   "sideBar": true,
   "skip_h1_title": true,
   "title_cell": "Table of Contents",
   "title_sidebar": "Contents",
   "toc_cell": false,
   "toc_position": {},
   "toc_section_display": true,
   "toc_window_display": false
  }
 },
 "nbformat": 4,
 "nbformat_minor": 2
}
